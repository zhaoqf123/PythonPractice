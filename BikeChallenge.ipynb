{
 "cells": [
  {
   "cell_type": "code",
   "execution_count": 1,
   "metadata": {
    "collapsed": true
   },
   "outputs": [],
   "source": [
    "## This file is to explore the data and engineer the features"
   ]
  },
  {
   "cell_type": "code",
   "execution_count": 1,
   "metadata": {
    "collapsed": true
   },
   "outputs": [],
   "source": [
    "import pandas as pd\n",
    "import numpy as np\n",
    "from datetime import datetime as dt\n",
    "from sklearn import metrics\n",
    "\n",
    "import DataProcessing as dp #This is customized module\n",
    "\n",
    "\n",
    "\n",
    "\n",
    "class files(object):\n",
    "    path_root = '/Volumes/Data/Downloads/Thunder/Uber'\n",
    "    path_data = '/201408_trip_data.csv'\n",
    "    path = path_root+path_data\n",
    "    path_new = path[:-4]+'_new.csv'\n",
    "    path_new_2 = path[:-4]+'_new_2.csv'\n",
    "    path_out_clustering = path[:-4] + '_cluster_out.csv'"
   ]
  },
  {
   "cell_type": "code",
   "execution_count": 3,
   "metadata": {
    "collapsed": true
   },
   "outputs": [],
   "source": [
    "'''This function applys unsupervised learning - clustering, to analyse the data in order to find churn\n",
    "'''\n",
    "## Step 1. Read the preprocessed data, then drop some columns\t\n",
    "path_new_2 = files.path_new_2\n",
    "path_new = files.path_new\n",
    "path_out_clustering = files.path_out_clustering\n",
    "clns_to_drop = ['Trip ID', 'Start Date_month', 'Start Date_total_seconds', 'End Date_month', 'End Date_total_seconds']\n",
    "df = pd.read_csv(path_new_2)\n",
    "df = df.drop(clns_to_drop, axis = 1)\n",
    "header = df.columns.tolist()\n",
    "## Step 2. Construct sklearn constructor, and do some prediction\n",
    "data = df.values\n",
    "from sklearn.cluster import KMeans\n",
    "model = KMeans(n_clusters=2, init='k-means++', n_init=10, max_iter=300, tol=0.0001, precompute_distances='auto', verbose=0, random_state=None, copy_x=True, n_jobs=1)\n",
    "label = model.fit_predict(data)"
   ]
  },
  {
   "cell_type": "code",
   "execution_count": 8,
   "metadata": {
    "collapsed": false
   },
   "outputs": [
    {
     "name": "stdout",
     "output_type": "stream",
     "text": [
      "(171792,)\n"
     ]
    }
   ],
   "source": [
    "print label.transpose().shape"
   ]
  },
  {
   "cell_type": "code",
   "execution_count": 12,
   "metadata": {
    "collapsed": false
   },
   "outputs": [],
   "source": [
    "label = label.reshape(len(label),1)"
   ]
  },
  {
   "cell_type": "code",
   "execution_count": 14,
   "metadata": {
    "collapsed": false
   },
   "outputs": [],
   "source": [
    "df_out = pd.DataFrame(label, columns = ['label'])\n",
    "df_original = pd.read_csv(path_new)\n",
    "df_out = pd.concat([df_original, df_out], axis = 1)\n",
    "df_out.to_csv(path_out_clustering)"
   ]
  },
  {
   "cell_type": "code",
   "execution_count": 124,
   "metadata": {
    "collapsed": false
   },
   "outputs": [],
   "source": [
    "reload(dp)\n",
    "tp = dp.datetimeparse"
   ]
  },
  {
   "cell_type": "code",
   "execution_count": 6,
   "metadata": {
    "collapsed": true
   },
   "outputs": [],
   "source": [
    "path_root = path_root = '/Volumes/Data/Downloads/Thunder/Uber'\n",
    "path_data = '/201408_trip_data.csv'"
   ]
  },
  {
   "cell_type": "code",
   "execution_count": 7,
   "metadata": {
    "collapsed": true
   },
   "outputs": [],
   "source": [
    "df = pd.read_csv(path_root+path_data)"
   ]
  },
  {
   "cell_type": "code",
   "execution_count": 5,
   "metadata": {
    "collapsed": false
   },
   "outputs": [
    {
     "name": "stdout",
     "output_type": "stream",
     "text": [
      "<class 'pandas.core.frame.DataFrame'>\n",
      "Int64Index: 171792 entries, 0 to 171791\n",
      "Data columns (total 11 columns):\n",
      "Trip ID            171792 non-null int64\n",
      "Duration           171792 non-null int64\n",
      "Start Date         171792 non-null object\n",
      "Start Station      171792 non-null object\n",
      "Start Terminal     171792 non-null int64\n",
      "End Date           171792 non-null object\n",
      "End Station        171792 non-null object\n",
      "End Terminal       171792 non-null int64\n",
      "Bike #             171792 non-null int64\n",
      "Subscriber Type    171792 non-null object\n",
      "Zip Code           171581 non-null object\n",
      "dtypes: int64(5), object(6)\n",
      "memory usage: 15.7+ MB\n",
      "None\n"
     ]
    }
   ],
   "source": [
    "print df.info()"
   ]
  },
  {
   "cell_type": "code",
   "execution_count": 6,
   "metadata": {
    "collapsed": false
   },
   "outputs": [
    {
     "name": "stdout",
     "output_type": "stream",
     "text": [
      "             Trip ID       Duration  Start Terminal   End Terminal  \\\n",
      "count  171792.000000  171792.000000   171792.000000  171792.000000   \n",
      "mean   315198.766503    1132.514250       57.403622      57.382090   \n",
      "std     67369.726104    6084.234943       17.599744      17.668405   \n",
      "min    198776.000000      60.000000        2.000000       2.000000   \n",
      "25%    256967.750000     345.000000       50.000000      50.000000   \n",
      "50%    314366.500000     517.000000       61.000000      61.000000   \n",
      "75%    373070.250000     761.000000       70.000000      70.000000   \n",
      "max    432946.000000  716480.000000       84.000000      84.000000   \n",
      "\n",
      "              Bike #  \n",
      "count  171792.000000  \n",
      "mean      429.216692  \n",
      "std       151.841710  \n",
      "min         9.000000  \n",
      "25%       335.000000  \n",
      "50%       442.000000  \n",
      "75%       546.000000  \n",
      "max       878.000000  \n"
     ]
    }
   ],
   "source": [
    "print df.describe()"
   ]
  },
  {
   "cell_type": "code",
   "execution_count": 9,
   "metadata": {
    "collapsed": false
   },
   "outputs": [
    {
     "data": {
      "text/plain": [
       "3527"
      ]
     },
     "execution_count": 9,
     "metadata": {},
     "output_type": "execute_result"
    }
   ],
   "source": [
    "len(df['Zip Code'].unique())"
   ]
  },
  {
   "cell_type": "code",
   "execution_count": 18,
   "metadata": {
    "collapsed": false
   },
   "outputs": [],
   "source": [
    "arr = df.columns.tolist()"
   ]
  },
  {
   "cell_type": "code",
   "execution_count": 12,
   "metadata": {
    "collapsed": false
   },
   "outputs": [
    {
     "data": {
      "text/plain": [
       "array([['Trip ID'],\n",
       "       ['Duration'],\n",
       "       ['Start Date'],\n",
       "       ['Start Station'],\n",
       "       ['Start Terminal'],\n",
       "       ['End Date'],\n",
       "       ['End Station'],\n",
       "       ['End Terminal'],\n",
       "       ['Bike #'],\n",
       "       ['Subscriber Type'],\n",
       "       ['Zip Code']], dtype=object)"
      ]
     },
     "execution_count": 12,
     "metadata": {},
     "output_type": "execute_result"
    }
   ],
   "source": [
    "arr.reshape(len(arr),1)"
   ]
  },
  {
   "cell_type": "code",
   "execution_count": 19,
   "metadata": {
    "collapsed": false
   },
   "outputs": [],
   "source": [
    "df_header = pd.DataFrame(arr, columns = ['cln_names'])"
   ]
  },
  {
   "cell_type": "code",
   "execution_count": 17,
   "metadata": {
    "collapsed": false
   },
   "outputs": [
    {
     "data": {
      "text/html": [
       "<div>\n",
       "<table border=\"1\" class=\"dataframe\">\n",
       "  <thead>\n",
       "    <tr style=\"text-align: right;\">\n",
       "      <th></th>\n",
       "      <th>cln_names</th>\n",
       "    </tr>\n",
       "  </thead>\n",
       "  <tbody>\n",
       "    <tr>\n",
       "      <th>0</th>\n",
       "      <td>Trip ID</td>\n",
       "    </tr>\n",
       "    <tr>\n",
       "      <th>1</th>\n",
       "      <td>Duration</td>\n",
       "    </tr>\n",
       "    <tr>\n",
       "      <th>2</th>\n",
       "      <td>Start Date</td>\n",
       "    </tr>\n",
       "    <tr>\n",
       "      <th>3</th>\n",
       "      <td>Start Station</td>\n",
       "    </tr>\n",
       "    <tr>\n",
       "      <th>4</th>\n",
       "      <td>Start Terminal</td>\n",
       "    </tr>\n",
       "    <tr>\n",
       "      <th>5</th>\n",
       "      <td>End Date</td>\n",
       "    </tr>\n",
       "    <tr>\n",
       "      <th>6</th>\n",
       "      <td>End Station</td>\n",
       "    </tr>\n",
       "    <tr>\n",
       "      <th>7</th>\n",
       "      <td>End Terminal</td>\n",
       "    </tr>\n",
       "    <tr>\n",
       "      <th>8</th>\n",
       "      <td>Bike #</td>\n",
       "    </tr>\n",
       "    <tr>\n",
       "      <th>9</th>\n",
       "      <td>Subscriber Type</td>\n",
       "    </tr>\n",
       "    <tr>\n",
       "      <th>10</th>\n",
       "      <td>Zip Code</td>\n",
       "    </tr>\n",
       "  </tbody>\n",
       "</table>\n",
       "</div>"
      ],
      "text/plain": [
       "          cln_names\n",
       "0           Trip ID\n",
       "1          Duration\n",
       "2        Start Date\n",
       "3     Start Station\n",
       "4    Start Terminal\n",
       "5          End Date\n",
       "6       End Station\n",
       "7      End Terminal\n",
       "8            Bike #\n",
       "9   Subscriber Type\n",
       "10         Zip Code"
      ]
     },
     "execution_count": 17,
     "metadata": {},
     "output_type": "execute_result"
    }
   ],
   "source": [
    "df_header"
   ]
  },
  {
   "cell_type": "code",
   "execution_count": 16,
   "metadata": {
    "collapsed": false
   },
   "outputs": [
    {
     "data": {
      "text/plain": [
       "70"
      ]
     },
     "execution_count": 16,
     "metadata": {},
     "output_type": "execute_result"
    }
   ],
   "source": [
    "len(df['End Terminal'].unique())"
   ]
  },
  {
   "cell_type": "code",
   "execution_count": 17,
   "metadata": {
    "collapsed": false
   },
   "outputs": [
    {
     "data": {
      "text/plain": [
       "70"
      ]
     },
     "execution_count": 17,
     "metadata": {},
     "output_type": "execute_result"
    }
   ],
   "source": [
    "len(df['End Station'].unique())"
   ]
  },
  {
   "cell_type": "code",
   "execution_count": 20,
   "metadata": {
    "collapsed": false
   },
   "outputs": [
    {
     "data": {
      "text/plain": [
       "'8/31/2014 22:15'"
      ]
     },
     "execution_count": 20,
     "metadata": {},
     "output_type": "execute_result"
    }
   ],
   "source": [
    "df['End Date'][1]"
   ]
  },
  {
   "cell_type": "code",
   "execution_count": 21,
   "metadata": {
    "collapsed": true
   },
   "outputs": [],
   "source": [
    "from datetime import datetime as dt"
   ]
  },
  {
   "cell_type": "code",
   "execution_count": 22,
   "metadata": {
    "collapsed": false
   },
   "outputs": [
    {
     "data": {
      "text/plain": [
       "datetime.datetime(2015, 9, 24, 10, 3, 37, 36831)"
      ]
     },
     "execution_count": 22,
     "metadata": {},
     "output_type": "execute_result"
    }
   ],
   "source": [
    "dt.today()"
   ]
  },
  {
   "cell_type": "code",
   "execution_count": 26,
   "metadata": {
    "collapsed": false
   },
   "outputs": [],
   "source": [
    "test_time = dt.strptime(df['End Date'][1], \"%m/%d/%Y %H:%M\")"
   ]
  },
  {
   "cell_type": "code",
   "execution_count": 1,
   "metadata": {
    "collapsed": false
   },
   "outputs": [
    {
     "ename": "TypeError",
     "evalue": "list indices must be integers, not list",
     "output_type": "error",
     "traceback": [
      "\u001b[0;31m---------------------------------------------------------------------------\u001b[0m",
      "\u001b[0;31mTypeError\u001b[0m                                 Traceback (most recent call last)",
      "\u001b[0;32m<ipython-input-1-67178a477b3a>\u001b[0m in \u001b[0;36m<module>\u001b[0;34m()\u001b[0m\n\u001b[1;32m      1\u001b[0m \u001b[0mlst\u001b[0m \u001b[0;34m=\u001b[0m \u001b[0;34m[\u001b[0m\u001b[0;36m1\u001b[0m\u001b[0;34m,\u001b[0m\u001b[0;36m2\u001b[0m\u001b[0;34m,\u001b[0m\u001b[0;36m3\u001b[0m\u001b[0;34m,\u001b[0m\u001b[0;36m4\u001b[0m\u001b[0;34m]\u001b[0m\u001b[0;34m\u001b[0m\u001b[0m\n\u001b[1;32m      2\u001b[0m \u001b[0midx\u001b[0m \u001b[0;34m=\u001b[0m \u001b[0;34m[\u001b[0m\u001b[0mTrue\u001b[0m\u001b[0;34m,\u001b[0m \u001b[0mTrue\u001b[0m\u001b[0;34m,\u001b[0m \u001b[0mFalse\u001b[0m\u001b[0;34m,\u001b[0m \u001b[0mFalse\u001b[0m\u001b[0;34m]\u001b[0m\u001b[0;34m\u001b[0m\u001b[0m\n\u001b[0;32m----> 3\u001b[0;31m \u001b[0mlst\u001b[0m\u001b[0;34m[\u001b[0m\u001b[0midx\u001b[0m\u001b[0;34m]\u001b[0m\u001b[0;34m\u001b[0m\u001b[0m\n\u001b[0m",
      "\u001b[0;31mTypeError\u001b[0m: list indices must be integers, not list"
     ]
    }
   ],
   "source": [
    "lst = [1,2,3,4]\n",
    "idx = [True, True, False, False]\n",
    "lst[idx]"
   ]
  },
  {
   "cell_type": "code",
   "execution_count": 134,
   "metadata": {
    "collapsed": false,
    "scrolled": true
   },
   "outputs": [],
   "source": [
    "reload(dp)\n",
    "tp = dp.datetimeparse\n",
    "new_df_1 = tp.split(df['Start Date'], time_str_format = \"%m/%d/%Y %H:%M\", columns = ['month', 'day'], special_columns = dt(2014, 3, 1, 0, 0, 0, 0))"
   ]
  },
  {
   "cell_type": "code",
   "execution_count": 135,
   "metadata": {
    "collapsed": false
   },
   "outputs": [
    {
     "data": {
      "text/html": [
       "<div>\n",
       "<table border=\"1\" class=\"dataframe\">\n",
       "  <thead>\n",
       "    <tr style=\"text-align: right;\">\n",
       "      <th></th>\n",
       "      <th>Start Date_month</th>\n",
       "      <th>Start Date_day</th>\n",
       "      <th>Start Date</th>\n",
       "    </tr>\n",
       "  </thead>\n",
       "  <tbody>\n",
       "    <tr>\n",
       "      <th>0</th>\n",
       "      <td>8</td>\n",
       "      <td>31</td>\n",
       "      <td>15892260</td>\n",
       "    </tr>\n",
       "    <tr>\n",
       "      <th>1</th>\n",
       "      <td>8</td>\n",
       "      <td>31</td>\n",
       "      <td>15890820</td>\n",
       "    </tr>\n",
       "    <tr>\n",
       "      <th>2</th>\n",
       "      <td>8</td>\n",
       "      <td>31</td>\n",
       "      <td>15890760</td>\n",
       "    </tr>\n",
       "    <tr>\n",
       "      <th>3</th>\n",
       "      <td>8</td>\n",
       "      <td>31</td>\n",
       "      <td>15889500</td>\n",
       "    </tr>\n",
       "    <tr>\n",
       "      <th>4</th>\n",
       "      <td>8</td>\n",
       "      <td>31</td>\n",
       "      <td>15889440</td>\n",
       "    </tr>\n",
       "    <tr>\n",
       "      <th>5</th>\n",
       "      <td>8</td>\n",
       "      <td>31</td>\n",
       "      <td>15889440</td>\n",
       "    </tr>\n",
       "    <tr>\n",
       "      <th>6</th>\n",
       "      <td>8</td>\n",
       "      <td>31</td>\n",
       "      <td>15889380</td>\n",
       "    </tr>\n",
       "    <tr>\n",
       "      <th>7</th>\n",
       "      <td>8</td>\n",
       "      <td>31</td>\n",
       "      <td>15889380</td>\n",
       "    </tr>\n",
       "    <tr>\n",
       "      <th>8</th>\n",
       "      <td>8</td>\n",
       "      <td>31</td>\n",
       "      <td>15889320</td>\n",
       "    </tr>\n",
       "    <tr>\n",
       "      <th>9</th>\n",
       "      <td>8</td>\n",
       "      <td>31</td>\n",
       "      <td>15889320</td>\n",
       "    </tr>\n",
       "    <tr>\n",
       "      <th>10</th>\n",
       "      <td>8</td>\n",
       "      <td>31</td>\n",
       "      <td>15889260</td>\n",
       "    </tr>\n",
       "    <tr>\n",
       "      <th>11</th>\n",
       "      <td>8</td>\n",
       "      <td>31</td>\n",
       "      <td>15889200</td>\n",
       "    </tr>\n",
       "    <tr>\n",
       "      <th>12</th>\n",
       "      <td>8</td>\n",
       "      <td>31</td>\n",
       "      <td>15888480</td>\n",
       "    </tr>\n",
       "    <tr>\n",
       "      <th>13</th>\n",
       "      <td>8</td>\n",
       "      <td>31</td>\n",
       "      <td>15887640</td>\n",
       "    </tr>\n",
       "    <tr>\n",
       "      <th>14</th>\n",
       "      <td>8</td>\n",
       "      <td>31</td>\n",
       "      <td>15887160</td>\n",
       "    </tr>\n",
       "    <tr>\n",
       "      <th>15</th>\n",
       "      <td>8</td>\n",
       "      <td>31</td>\n",
       "      <td>15887160</td>\n",
       "    </tr>\n",
       "    <tr>\n",
       "      <th>16</th>\n",
       "      <td>8</td>\n",
       "      <td>31</td>\n",
       "      <td>15886020</td>\n",
       "    </tr>\n",
       "    <tr>\n",
       "      <th>17</th>\n",
       "      <td>8</td>\n",
       "      <td>31</td>\n",
       "      <td>15885420</td>\n",
       "    </tr>\n",
       "    <tr>\n",
       "      <th>18</th>\n",
       "      <td>8</td>\n",
       "      <td>31</td>\n",
       "      <td>15885300</td>\n",
       "    </tr>\n",
       "    <tr>\n",
       "      <th>19</th>\n",
       "      <td>8</td>\n",
       "      <td>31</td>\n",
       "      <td>15885300</td>\n",
       "    </tr>\n",
       "    <tr>\n",
       "      <th>20</th>\n",
       "      <td>8</td>\n",
       "      <td>31</td>\n",
       "      <td>15884100</td>\n",
       "    </tr>\n",
       "    <tr>\n",
       "      <th>21</th>\n",
       "      <td>8</td>\n",
       "      <td>31</td>\n",
       "      <td>15884100</td>\n",
       "    </tr>\n",
       "    <tr>\n",
       "      <th>22</th>\n",
       "      <td>8</td>\n",
       "      <td>31</td>\n",
       "      <td>15884040</td>\n",
       "    </tr>\n",
       "    <tr>\n",
       "      <th>23</th>\n",
       "      <td>8</td>\n",
       "      <td>31</td>\n",
       "      <td>15883440</td>\n",
       "    </tr>\n",
       "    <tr>\n",
       "      <th>24</th>\n",
       "      <td>8</td>\n",
       "      <td>31</td>\n",
       "      <td>15883440</td>\n",
       "    </tr>\n",
       "    <tr>\n",
       "      <th>25</th>\n",
       "      <td>8</td>\n",
       "      <td>31</td>\n",
       "      <td>15883140</td>\n",
       "    </tr>\n",
       "    <tr>\n",
       "      <th>26</th>\n",
       "      <td>8</td>\n",
       "      <td>31</td>\n",
       "      <td>15883020</td>\n",
       "    </tr>\n",
       "    <tr>\n",
       "      <th>27</th>\n",
       "      <td>8</td>\n",
       "      <td>31</td>\n",
       "      <td>15882420</td>\n",
       "    </tr>\n",
       "    <tr>\n",
       "      <th>28</th>\n",
       "      <td>8</td>\n",
       "      <td>31</td>\n",
       "      <td>15881940</td>\n",
       "    </tr>\n",
       "    <tr>\n",
       "      <th>29</th>\n",
       "      <td>8</td>\n",
       "      <td>31</td>\n",
       "      <td>15881760</td>\n",
       "    </tr>\n",
       "    <tr>\n",
       "      <th>...</th>\n",
       "      <td>...</td>\n",
       "      <td>...</td>\n",
       "      <td>...</td>\n",
       "    </tr>\n",
       "    <tr>\n",
       "      <th>171762</th>\n",
       "      <td>3</td>\n",
       "      <td>1</td>\n",
       "      <td>31860</td>\n",
       "    </tr>\n",
       "    <tr>\n",
       "      <th>171763</th>\n",
       "      <td>3</td>\n",
       "      <td>1</td>\n",
       "      <td>31680</td>\n",
       "    </tr>\n",
       "    <tr>\n",
       "      <th>171764</th>\n",
       "      <td>3</td>\n",
       "      <td>1</td>\n",
       "      <td>31440</td>\n",
       "    </tr>\n",
       "    <tr>\n",
       "      <th>171765</th>\n",
       "      <td>3</td>\n",
       "      <td>1</td>\n",
       "      <td>31200</td>\n",
       "    </tr>\n",
       "    <tr>\n",
       "      <th>171766</th>\n",
       "      <td>3</td>\n",
       "      <td>1</td>\n",
       "      <td>31200</td>\n",
       "    </tr>\n",
       "    <tr>\n",
       "      <th>171767</th>\n",
       "      <td>3</td>\n",
       "      <td>1</td>\n",
       "      <td>31140</td>\n",
       "    </tr>\n",
       "    <tr>\n",
       "      <th>171768</th>\n",
       "      <td>3</td>\n",
       "      <td>1</td>\n",
       "      <td>30960</td>\n",
       "    </tr>\n",
       "    <tr>\n",
       "      <th>171769</th>\n",
       "      <td>3</td>\n",
       "      <td>1</td>\n",
       "      <td>30900</td>\n",
       "    </tr>\n",
       "    <tr>\n",
       "      <th>171770</th>\n",
       "      <td>3</td>\n",
       "      <td>1</td>\n",
       "      <td>30720</td>\n",
       "    </tr>\n",
       "    <tr>\n",
       "      <th>171771</th>\n",
       "      <td>3</td>\n",
       "      <td>1</td>\n",
       "      <td>30540</td>\n",
       "    </tr>\n",
       "    <tr>\n",
       "      <th>171772</th>\n",
       "      <td>3</td>\n",
       "      <td>1</td>\n",
       "      <td>29880</td>\n",
       "    </tr>\n",
       "    <tr>\n",
       "      <th>171773</th>\n",
       "      <td>3</td>\n",
       "      <td>1</td>\n",
       "      <td>28620</td>\n",
       "    </tr>\n",
       "    <tr>\n",
       "      <th>171774</th>\n",
       "      <td>3</td>\n",
       "      <td>1</td>\n",
       "      <td>23460</td>\n",
       "    </tr>\n",
       "    <tr>\n",
       "      <th>171775</th>\n",
       "      <td>3</td>\n",
       "      <td>1</td>\n",
       "      <td>16980</td>\n",
       "    </tr>\n",
       "    <tr>\n",
       "      <th>171776</th>\n",
       "      <td>3</td>\n",
       "      <td>1</td>\n",
       "      <td>13860</td>\n",
       "    </tr>\n",
       "    <tr>\n",
       "      <th>171777</th>\n",
       "      <td>3</td>\n",
       "      <td>1</td>\n",
       "      <td>13800</td>\n",
       "    </tr>\n",
       "    <tr>\n",
       "      <th>171778</th>\n",
       "      <td>3</td>\n",
       "      <td>1</td>\n",
       "      <td>11400</td>\n",
       "    </tr>\n",
       "    <tr>\n",
       "      <th>171779</th>\n",
       "      <td>3</td>\n",
       "      <td>1</td>\n",
       "      <td>11220</td>\n",
       "    </tr>\n",
       "    <tr>\n",
       "      <th>171780</th>\n",
       "      <td>3</td>\n",
       "      <td>1</td>\n",
       "      <td>11160</td>\n",
       "    </tr>\n",
       "    <tr>\n",
       "      <th>171781</th>\n",
       "      <td>3</td>\n",
       "      <td>1</td>\n",
       "      <td>10620</td>\n",
       "    </tr>\n",
       "    <tr>\n",
       "      <th>171782</th>\n",
       "      <td>3</td>\n",
       "      <td>1</td>\n",
       "      <td>10500</td>\n",
       "    </tr>\n",
       "    <tr>\n",
       "      <th>171783</th>\n",
       "      <td>3</td>\n",
       "      <td>1</td>\n",
       "      <td>10260</td>\n",
       "    </tr>\n",
       "    <tr>\n",
       "      <th>171784</th>\n",
       "      <td>3</td>\n",
       "      <td>1</td>\n",
       "      <td>4920</td>\n",
       "    </tr>\n",
       "    <tr>\n",
       "      <th>171785</th>\n",
       "      <td>3</td>\n",
       "      <td>1</td>\n",
       "      <td>3540</td>\n",
       "    </tr>\n",
       "    <tr>\n",
       "      <th>171786</th>\n",
       "      <td>3</td>\n",
       "      <td>1</td>\n",
       "      <td>3540</td>\n",
       "    </tr>\n",
       "    <tr>\n",
       "      <th>171787</th>\n",
       "      <td>3</td>\n",
       "      <td>1</td>\n",
       "      <td>2520</td>\n",
       "    </tr>\n",
       "    <tr>\n",
       "      <th>171788</th>\n",
       "      <td>3</td>\n",
       "      <td>1</td>\n",
       "      <td>1320</td>\n",
       "    </tr>\n",
       "    <tr>\n",
       "      <th>171789</th>\n",
       "      <td>3</td>\n",
       "      <td>1</td>\n",
       "      <td>1260</td>\n",
       "    </tr>\n",
       "    <tr>\n",
       "      <th>171790</th>\n",
       "      <td>3</td>\n",
       "      <td>1</td>\n",
       "      <td>960</td>\n",
       "    </tr>\n",
       "    <tr>\n",
       "      <th>171791</th>\n",
       "      <td>3</td>\n",
       "      <td>1</td>\n",
       "      <td>840</td>\n",
       "    </tr>\n",
       "  </tbody>\n",
       "</table>\n",
       "<p>171792 rows × 3 columns</p>\n",
       "</div>"
      ],
      "text/plain": [
       "        Start Date_month  Start Date_day  Start Date\n",
       "0                      8              31    15892260\n",
       "1                      8              31    15890820\n",
       "2                      8              31    15890760\n",
       "3                      8              31    15889500\n",
       "4                      8              31    15889440\n",
       "5                      8              31    15889440\n",
       "6                      8              31    15889380\n",
       "7                      8              31    15889380\n",
       "8                      8              31    15889320\n",
       "9                      8              31    15889320\n",
       "10                     8              31    15889260\n",
       "11                     8              31    15889200\n",
       "12                     8              31    15888480\n",
       "13                     8              31    15887640\n",
       "14                     8              31    15887160\n",
       "15                     8              31    15887160\n",
       "16                     8              31    15886020\n",
       "17                     8              31    15885420\n",
       "18                     8              31    15885300\n",
       "19                     8              31    15885300\n",
       "20                     8              31    15884100\n",
       "21                     8              31    15884100\n",
       "22                     8              31    15884040\n",
       "23                     8              31    15883440\n",
       "24                     8              31    15883440\n",
       "25                     8              31    15883140\n",
       "26                     8              31    15883020\n",
       "27                     8              31    15882420\n",
       "28                     8              31    15881940\n",
       "29                     8              31    15881760\n",
       "...                  ...             ...         ...\n",
       "171762                 3               1       31860\n",
       "171763                 3               1       31680\n",
       "171764                 3               1       31440\n",
       "171765                 3               1       31200\n",
       "171766                 3               1       31200\n",
       "171767                 3               1       31140\n",
       "171768                 3               1       30960\n",
       "171769                 3               1       30900\n",
       "171770                 3               1       30720\n",
       "171771                 3               1       30540\n",
       "171772                 3               1       29880\n",
       "171773                 3               1       28620\n",
       "171774                 3               1       23460\n",
       "171775                 3               1       16980\n",
       "171776                 3               1       13860\n",
       "171777                 3               1       13800\n",
       "171778                 3               1       11400\n",
       "171779                 3               1       11220\n",
       "171780                 3               1       11160\n",
       "171781                 3               1       10620\n",
       "171782                 3               1       10500\n",
       "171783                 3               1       10260\n",
       "171784                 3               1        4920\n",
       "171785                 3               1        3540\n",
       "171786                 3               1        3540\n",
       "171787                 3               1        2520\n",
       "171788                 3               1        1320\n",
       "171789                 3               1        1260\n",
       "171790                 3               1         960\n",
       "171791                 3               1         840\n",
       "\n",
       "[171792 rows x 3 columns]"
      ]
     },
     "execution_count": 135,
     "metadata": {},
     "output_type": "execute_result"
    }
   ],
   "source": [
    "new_df_1"
   ]
  },
  {
   "cell_type": "code",
   "execution_count": 57,
   "metadata": {
    "collapsed": false
   },
   "outputs": [
    {
     "data": {
      "text/plain": [
       "time.struct_time(tm_year=2014, tm_mon=8, tm_mday=31, tm_hour=22, tm_min=15, tm_sec=0, tm_wday=6, tm_yday=243, tm_isdst=-1)"
      ]
     },
     "execution_count": 57,
     "metadata": {},
     "output_type": "execute_result"
    }
   ],
   "source": [
    "test_time.timetuple()"
   ]
  },
  {
   "cell_type": "code",
   "execution_count": 74,
   "metadata": {
    "collapsed": false
   },
   "outputs": [
    {
     "data": {
      "text/plain": [
       "time.struct_time(tm_year=2015, tm_mon=9, tm_mday=24, tm_hour=13, tm_min=17, tm_sec=40, tm_wday=3, tm_yday=267, tm_isdst=-1)"
      ]
     },
     "execution_count": 74,
     "metadata": {},
     "output_type": "execute_result"
    }
   ],
   "source": [
    "dt.today().timetuple()"
   ]
  },
  {
   "cell_type": "code",
   "execution_count": 60,
   "metadata": {
    "collapsed": true
   },
   "outputs": [],
   "source": [
    "dff = df['End Date']"
   ]
  },
  {
   "cell_type": "code",
   "execution_count": 75,
   "metadata": {
    "collapsed": false
   },
   "outputs": [
    {
     "data": {
      "text/plain": [
       "'8/31/2014 22:15'"
      ]
     },
     "execution_count": 75,
     "metadata": {},
     "output_type": "execute_result"
    }
   ],
   "source": [
    "dff[1]"
   ]
  },
  {
   "cell_type": "code",
   "execution_count": 126,
   "metadata": {
    "collapsed": true
   },
   "outputs": [],
   "source": [
    "special_columns = dt(2014, 3, 1, 0, 0, 0, 0)"
   ]
  },
  {
   "cell_type": "code",
   "execution_count": 128,
   "metadata": {
    "collapsed": false
   },
   "outputs": [
    {
     "data": {
      "text/plain": [
       "183.92708333333334"
      ]
     },
     "execution_count": 128,
     "metadata": {},
     "output_type": "execute_result"
    }
   ],
   "source": [
    "(test_time - special_columns).total_seconds()/(3600*24)"
   ]
  },
  {
   "cell_type": "code",
   "execution_count": 129,
   "metadata": {
    "collapsed": false
   },
   "outputs": [
    {
     "data": {
      "text/plain": [
       "time.struct_time(tm_year=2014, tm_mon=3, tm_mday=1, tm_hour=0, tm_min=0, tm_sec=0, tm_wday=5, tm_yday=60, tm_isdst=-1)"
      ]
     },
     "execution_count": 129,
     "metadata": {},
     "output_type": "execute_result"
    }
   ],
   "source": [
    "special_columns.timetuple()"
   ]
  },
  {
   "cell_type": "code",
   "execution_count": 82,
   "metadata": {
    "collapsed": false
   },
   "outputs": [
    {
     "data": {
      "text/plain": [
       "array([[ 0.,  0.],\n",
       "       [ 0.,  0.]])"
      ]
     },
     "execution_count": 82,
     "metadata": {},
     "output_type": "execute_result"
    }
   ],
   "source": [
    "np.zeros([2,2])"
   ]
  },
  {
   "cell_type": "code",
   "execution_count": 93,
   "metadata": {
    "collapsed": true
   },
   "outputs": [],
   "source": [
    "tf = None"
   ]
  },
  {
   "cell_type": "code",
   "execution_count": 94,
   "metadata": {
    "collapsed": false
   },
   "outputs": [],
   "source": [
    "gg = 1\n",
    "if tf:\n",
    "    print gg"
   ]
  },
  {
   "cell_type": "code",
   "execution_count": 110,
   "metadata": {
    "collapsed": false
   },
   "outputs": [
    {
     "data": {
      "text/html": [
       "<div>\n",
       "<table border=\"1\" class=\"dataframe\">\n",
       "  <thead>\n",
       "    <tr style=\"text-align: right;\">\n",
       "      <th></th>\n",
       "      <th>test</th>\n",
       "    </tr>\n",
       "  </thead>\n",
       "  <tbody>\n",
       "    <tr>\n",
       "      <th>0</th>\n",
       "      <td>0</td>\n",
       "    </tr>\n",
       "    <tr>\n",
       "      <th>1</th>\n",
       "      <td>0</td>\n",
       "    </tr>\n",
       "    <tr>\n",
       "      <th>2</th>\n",
       "      <td>0</td>\n",
       "    </tr>\n",
       "  </tbody>\n",
       "</table>\n",
       "</div>"
      ],
      "text/plain": [
       "   test\n",
       "0     0\n",
       "1     0\n",
       "2     0"
      ]
     },
     "execution_count": 110,
     "metadata": {},
     "output_type": "execute_result"
    }
   ],
   "source": [
    "pd.DataFrame(np.zeros([3,1]), columns = ['test'])"
   ]
  },
  {
   "cell_type": "code",
   "execution_count": 118,
   "metadata": {
    "collapsed": true
   },
   "outputs": [],
   "source": [
    "num_rows = 100000\n",
    "num_clns_2 = 1\n",
    "new_cln_names_2 = ['total_seconds']\n",
    "new_df_2 = pd.DataFrame(np.zeros([num_rows, num_clns_2]), columns = new_cln_names_2)"
   ]
  },
  {
   "cell_type": "code",
   "execution_count": 119,
   "metadata": {
    "collapsed": false
   },
   "outputs": [
    {
     "data": {
      "text/html": [
       "<div>\n",
       "<table border=\"1\" class=\"dataframe\">\n",
       "  <thead>\n",
       "    <tr style=\"text-align: right;\">\n",
       "      <th></th>\n",
       "      <th>total_seconds</th>\n",
       "    </tr>\n",
       "  </thead>\n",
       "  <tbody>\n",
       "    <tr>\n",
       "      <th>0</th>\n",
       "      <td>0</td>\n",
       "    </tr>\n",
       "    <tr>\n",
       "      <th>1</th>\n",
       "      <td>0</td>\n",
       "    </tr>\n",
       "    <tr>\n",
       "      <th>2</th>\n",
       "      <td>0</td>\n",
       "    </tr>\n",
       "    <tr>\n",
       "      <th>3</th>\n",
       "      <td>0</td>\n",
       "    </tr>\n",
       "    <tr>\n",
       "      <th>4</th>\n",
       "      <td>0</td>\n",
       "    </tr>\n",
       "    <tr>\n",
       "      <th>5</th>\n",
       "      <td>0</td>\n",
       "    </tr>\n",
       "    <tr>\n",
       "      <th>6</th>\n",
       "      <td>0</td>\n",
       "    </tr>\n",
       "    <tr>\n",
       "      <th>7</th>\n",
       "      <td>0</td>\n",
       "    </tr>\n",
       "    <tr>\n",
       "      <th>8</th>\n",
       "      <td>0</td>\n",
       "    </tr>\n",
       "    <tr>\n",
       "      <th>9</th>\n",
       "      <td>0</td>\n",
       "    </tr>\n",
       "    <tr>\n",
       "      <th>10</th>\n",
       "      <td>0</td>\n",
       "    </tr>\n",
       "    <tr>\n",
       "      <th>11</th>\n",
       "      <td>0</td>\n",
       "    </tr>\n",
       "    <tr>\n",
       "      <th>12</th>\n",
       "      <td>0</td>\n",
       "    </tr>\n",
       "    <tr>\n",
       "      <th>13</th>\n",
       "      <td>0</td>\n",
       "    </tr>\n",
       "    <tr>\n",
       "      <th>14</th>\n",
       "      <td>0</td>\n",
       "    </tr>\n",
       "    <tr>\n",
       "      <th>15</th>\n",
       "      <td>0</td>\n",
       "    </tr>\n",
       "    <tr>\n",
       "      <th>16</th>\n",
       "      <td>0</td>\n",
       "    </tr>\n",
       "    <tr>\n",
       "      <th>17</th>\n",
       "      <td>0</td>\n",
       "    </tr>\n",
       "    <tr>\n",
       "      <th>18</th>\n",
       "      <td>0</td>\n",
       "    </tr>\n",
       "    <tr>\n",
       "      <th>19</th>\n",
       "      <td>0</td>\n",
       "    </tr>\n",
       "    <tr>\n",
       "      <th>20</th>\n",
       "      <td>0</td>\n",
       "    </tr>\n",
       "    <tr>\n",
       "      <th>21</th>\n",
       "      <td>0</td>\n",
       "    </tr>\n",
       "    <tr>\n",
       "      <th>22</th>\n",
       "      <td>0</td>\n",
       "    </tr>\n",
       "    <tr>\n",
       "      <th>23</th>\n",
       "      <td>0</td>\n",
       "    </tr>\n",
       "    <tr>\n",
       "      <th>24</th>\n",
       "      <td>0</td>\n",
       "    </tr>\n",
       "    <tr>\n",
       "      <th>25</th>\n",
       "      <td>0</td>\n",
       "    </tr>\n",
       "    <tr>\n",
       "      <th>26</th>\n",
       "      <td>0</td>\n",
       "    </tr>\n",
       "    <tr>\n",
       "      <th>27</th>\n",
       "      <td>0</td>\n",
       "    </tr>\n",
       "    <tr>\n",
       "      <th>28</th>\n",
       "      <td>0</td>\n",
       "    </tr>\n",
       "    <tr>\n",
       "      <th>29</th>\n",
       "      <td>0</td>\n",
       "    </tr>\n",
       "    <tr>\n",
       "      <th>...</th>\n",
       "      <td>...</td>\n",
       "    </tr>\n",
       "    <tr>\n",
       "      <th>99970</th>\n",
       "      <td>0</td>\n",
       "    </tr>\n",
       "    <tr>\n",
       "      <th>99971</th>\n",
       "      <td>0</td>\n",
       "    </tr>\n",
       "    <tr>\n",
       "      <th>99972</th>\n",
       "      <td>0</td>\n",
       "    </tr>\n",
       "    <tr>\n",
       "      <th>99973</th>\n",
       "      <td>0</td>\n",
       "    </tr>\n",
       "    <tr>\n",
       "      <th>99974</th>\n",
       "      <td>0</td>\n",
       "    </tr>\n",
       "    <tr>\n",
       "      <th>99975</th>\n",
       "      <td>0</td>\n",
       "    </tr>\n",
       "    <tr>\n",
       "      <th>99976</th>\n",
       "      <td>0</td>\n",
       "    </tr>\n",
       "    <tr>\n",
       "      <th>99977</th>\n",
       "      <td>0</td>\n",
       "    </tr>\n",
       "    <tr>\n",
       "      <th>99978</th>\n",
       "      <td>0</td>\n",
       "    </tr>\n",
       "    <tr>\n",
       "      <th>99979</th>\n",
       "      <td>0</td>\n",
       "    </tr>\n",
       "    <tr>\n",
       "      <th>99980</th>\n",
       "      <td>0</td>\n",
       "    </tr>\n",
       "    <tr>\n",
       "      <th>99981</th>\n",
       "      <td>0</td>\n",
       "    </tr>\n",
       "    <tr>\n",
       "      <th>99982</th>\n",
       "      <td>0</td>\n",
       "    </tr>\n",
       "    <tr>\n",
       "      <th>99983</th>\n",
       "      <td>0</td>\n",
       "    </tr>\n",
       "    <tr>\n",
       "      <th>99984</th>\n",
       "      <td>0</td>\n",
       "    </tr>\n",
       "    <tr>\n",
       "      <th>99985</th>\n",
       "      <td>0</td>\n",
       "    </tr>\n",
       "    <tr>\n",
       "      <th>99986</th>\n",
       "      <td>0</td>\n",
       "    </tr>\n",
       "    <tr>\n",
       "      <th>99987</th>\n",
       "      <td>0</td>\n",
       "    </tr>\n",
       "    <tr>\n",
       "      <th>99988</th>\n",
       "      <td>0</td>\n",
       "    </tr>\n",
       "    <tr>\n",
       "      <th>99989</th>\n",
       "      <td>0</td>\n",
       "    </tr>\n",
       "    <tr>\n",
       "      <th>99990</th>\n",
       "      <td>0</td>\n",
       "    </tr>\n",
       "    <tr>\n",
       "      <th>99991</th>\n",
       "      <td>0</td>\n",
       "    </tr>\n",
       "    <tr>\n",
       "      <th>99992</th>\n",
       "      <td>0</td>\n",
       "    </tr>\n",
       "    <tr>\n",
       "      <th>99993</th>\n",
       "      <td>0</td>\n",
       "    </tr>\n",
       "    <tr>\n",
       "      <th>99994</th>\n",
       "      <td>0</td>\n",
       "    </tr>\n",
       "    <tr>\n",
       "      <th>99995</th>\n",
       "      <td>0</td>\n",
       "    </tr>\n",
       "    <tr>\n",
       "      <th>99996</th>\n",
       "      <td>0</td>\n",
       "    </tr>\n",
       "    <tr>\n",
       "      <th>99997</th>\n",
       "      <td>0</td>\n",
       "    </tr>\n",
       "    <tr>\n",
       "      <th>99998</th>\n",
       "      <td>0</td>\n",
       "    </tr>\n",
       "    <tr>\n",
       "      <th>99999</th>\n",
       "      <td>0</td>\n",
       "    </tr>\n",
       "  </tbody>\n",
       "</table>\n",
       "<p>100000 rows × 1 columns</p>\n",
       "</div>"
      ],
      "text/plain": [
       "       total_seconds\n",
       "0                  0\n",
       "1                  0\n",
       "2                  0\n",
       "3                  0\n",
       "4                  0\n",
       "5                  0\n",
       "6                  0\n",
       "7                  0\n",
       "8                  0\n",
       "9                  0\n",
       "10                 0\n",
       "11                 0\n",
       "12                 0\n",
       "13                 0\n",
       "14                 0\n",
       "15                 0\n",
       "16                 0\n",
       "17                 0\n",
       "18                 0\n",
       "19                 0\n",
       "20                 0\n",
       "21                 0\n",
       "22                 0\n",
       "23                 0\n",
       "24                 0\n",
       "25                 0\n",
       "26                 0\n",
       "27                 0\n",
       "28                 0\n",
       "29                 0\n",
       "...              ...\n",
       "99970              0\n",
       "99971              0\n",
       "99972              0\n",
       "99973              0\n",
       "99974              0\n",
       "99975              0\n",
       "99976              0\n",
       "99977              0\n",
       "99978              0\n",
       "99979              0\n",
       "99980              0\n",
       "99981              0\n",
       "99982              0\n",
       "99983              0\n",
       "99984              0\n",
       "99985              0\n",
       "99986              0\n",
       "99987              0\n",
       "99988              0\n",
       "99989              0\n",
       "99990              0\n",
       "99991              0\n",
       "99992              0\n",
       "99993              0\n",
       "99994              0\n",
       "99995              0\n",
       "99996              0\n",
       "99997              0\n",
       "99998              0\n",
       "99999              0\n",
       "\n",
       "[100000 rows x 1 columns]"
      ]
     },
     "execution_count": 119,
     "metadata": {},
     "output_type": "execute_result"
    }
   ],
   "source": [
    "new_df_2"
   ]
  },
  {
   "cell_type": "code",
   "execution_count": 15,
   "metadata": {
    "collapsed": true
   },
   "outputs": [],
   "source": [
    "arr = np.array([0,1,2,3,0,1])"
   ]
  },
  {
   "cell_type": "code",
   "execution_count": 17,
   "metadata": {
    "collapsed": false
   },
   "outputs": [
    {
     "data": {
      "text/plain": [
       "4"
      ]
     },
     "execution_count": 17,
     "metadata": {},
     "output_type": "execute_result"
    }
   ],
   "source": [
    "sum(arr>0)"
   ]
  },
  {
   "cell_type": "code",
   "execution_count": 2,
   "metadata": {
    "collapsed": true
   },
   "outputs": [],
   "source": [
    "from sklearn import metrics\n",
    "arr = np.array([0.1, 0.1, 0.2, 0.6, 0.7, 1.0])"
   ]
  },
  {
   "cell_type": "code",
   "execution_count": 5,
   "metadata": {
    "collapsed": false
   },
   "outputs": [
    {
     "data": {
      "text/plain": [
       "array([0, 0, 0, 1, 1, 1])"
      ]
     },
     "execution_count": 5,
     "metadata": {},
     "output_type": "execute_result"
    }
   ],
   "source": [
    "(arr > 0.5).astype(int)"
   ]
  },
  {
   "cell_type": "code",
   "execution_count": null,
   "metadata": {
    "collapsed": true
   },
   "outputs": [],
   "source": []
  }
 ],
 "metadata": {
  "kernelspec": {
   "display_name": "Python 2",
   "language": "python",
   "name": "python2"
  },
  "language_info": {
   "codemirror_mode": {
    "name": "ipython",
    "version": 2
   },
   "file_extension": ".py",
   "mimetype": "text/x-python",
   "name": "python",
   "nbconvert_exporter": "python",
   "pygments_lexer": "ipython2",
   "version": "2.7.10"
  }
 },
 "nbformat": 4,
 "nbformat_minor": 0
}
