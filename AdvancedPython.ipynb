{
 "cells": [
  {
   "cell_type": "code",
   "execution_count": 1,
   "metadata": {
    "collapsed": true
   },
   "outputs": [],
   "source": [
    "# This script is to practice some examples given in the tutorial \"Advanced Python or Understanding Python\"\n",
    "# in Google Tech Talk in https://www.youtube.com/watch?v=uOzdG3lwcB4"
   ]
  },
  {
   "cell_type": "code",
   "execution_count": 3,
   "metadata": {
    "collapsed": true
   },
   "outputs": [],
   "source": [
    "def Foo():\n",
    "    \"This is Function Foo!\""
   ]
  },
  {
   "cell_type": "code",
   "execution_count": 19,
   "metadata": {
    "collapsed": false
   },
   "outputs": [],
   "source": [
    "def func(arg1, arg2=Foo()):\n",
    "    print \"Entering Func1\"\n",
    "    def inner_func(arg1, arg3 = arg2):\n",
    "        print \"Entering inner function\"\n",
    "        return arg1, arg3\n",
    "    print inner_func(1)\n",
    "    arg1 = arg2 = None\n",
    "    return inner_func"
   ]
  },
  {
   "cell_type": "code",
   "execution_count": 20,
   "metadata": {
    "collapsed": false
   },
   "outputs": [
    {
     "name": "stdout",
     "output_type": "stream",
     "text": [
      "Entering Func1\n",
      "Entering inner function\n",
      "(1, None)\n"
     ]
    }
   ],
   "source": [
    "gg = func(\"Test!\")"
   ]
  },
  {
   "cell_type": "code",
   "execution_count": 8,
   "metadata": {
    "collapsed": false
   },
   "outputs": [
    {
     "name": "stdout",
     "output_type": "stream",
     "text": [
      "Entering inner function\n"
     ]
    },
    {
     "data": {
      "text/plain": [
       "(1, None)"
      ]
     },
     "execution_count": 8,
     "metadata": {},
     "output_type": "execute_result"
    }
   ],
   "source": [
    "gg(1)"
   ]
  },
  {
   "cell_type": "code",
   "execution_count": 1,
   "metadata": {
    "collapsed": true
   },
   "outputs": [],
   "source": [
    "import sys"
   ]
  },
  {
   "cell_type": "code",
   "execution_count": 2,
   "metadata": {
    "collapsed": false
   },
   "outputs": [
    {
     "data": {
      "text/plain": [
       "{'IPython': <module 'IPython' from '/Library/Python/2.7/site-packages/IPython/__init__.pyc'>,\n",
       " 'IPython.IPython': None,\n",
       " 'IPython.config': <module 'IPython.config' from '/Library/Python/2.7/site-packages/IPython/config/__init__.pyc'>,\n",
       " 'IPython.config.IPython': None,\n",
       " 'IPython.config.__future__': None,\n",
       " 'IPython.config.application': <module 'IPython.config.application' from '/Library/Python/2.7/site-packages/IPython/config/application.pyc'>,\n",
       " 'IPython.config.argparse': None,\n",
       " 'IPython.config.collections': None,\n",
       " 'IPython.config.configurable': <module 'IPython.config.configurable' from '/Library/Python/2.7/site-packages/IPython/config/configurable.pyc'>,\n",
       " 'IPython.config.copy': None,\n",
       " 'IPython.config.json': None,\n",
       " 'IPython.config.loader': <module 'IPython.config.loader' from '/Library/Python/2.7/site-packages/IPython/config/loader.pyc'>,\n",
       " 'IPython.config.logging': None,\n",
       " 'IPython.config.os': None,\n",
       " 'IPython.config.re': None,\n",
       " 'IPython.config.sys': None,\n",
       " 'IPython.core': <module 'IPython.core' from '/Library/Python/2.7/site-packages/IPython/core/__init__.pyc'>,\n",
       " 'IPython.core.IPython': None,\n",
       " 'IPython.core.StringIO': None,\n",
       " 'IPython.core.__future__': None,\n",
       " 'IPython.core.__main__': None,\n",
       " 'IPython.core.abc': None,\n",
       " 'IPython.core.alias': <module 'IPython.core.alias' from '/Library/Python/2.7/site-packages/IPython/core/alias.pyc'>,\n",
       " 'IPython.core.application': <module 'IPython.core.application' from '/Library/Python/2.7/site-packages/IPython/core/application.pyc'>,\n",
       " 'IPython.core.argparse': None,\n",
       " 'IPython.core.ast': None,\n",
       " 'IPython.core.atexit': None,\n",
       " 'IPython.core.autocall': <module 'IPython.core.autocall' from '/Library/Python/2.7/site-packages/IPython/core/autocall.pyc'>,\n",
       " 'IPython.core.bdb': None,\n",
       " 'IPython.core.builtin_trap': <module 'IPython.core.builtin_trap' from '/Library/Python/2.7/site-packages/IPython/core/builtin_trap.pyc'>,\n",
       " 'IPython.core.codeop': None,\n",
       " 'IPython.core.compilerop': <module 'IPython.core.compilerop' from '/Library/Python/2.7/site-packages/IPython/core/compilerop.pyc'>,\n",
       " 'IPython.core.completer': <module 'IPython.core.completer' from '/Library/Python/2.7/site-packages/IPython/core/completer.pyc'>,\n",
       " 'IPython.core.completerlib': <module 'IPython.core.completerlib' from '/Library/Python/2.7/site-packages/IPython/core/completerlib.pyc'>,\n",
       " 'IPython.core.crashhandler': <module 'IPython.core.crashhandler' from '/Library/Python/2.7/site-packages/IPython/core/crashhandler.pyc'>,\n",
       " 'IPython.core.datetime': None,\n",
       " 'IPython.core.debugger': <module 'IPython.core.debugger' from '/Library/Python/2.7/site-packages/IPython/core/debugger.pyc'>,\n",
       " 'IPython.core.display': <module 'IPython.core.display' from '/Library/Python/2.7/site-packages/IPython/core/display.pyc'>,\n",
       " 'IPython.core.display_trap': <module 'IPython.core.display_trap' from '/Library/Python/2.7/site-packages/IPython/core/display_trap.pyc'>,\n",
       " 'IPython.core.displayhook': <module 'IPython.core.displayhook' from '/Library/Python/2.7/site-packages/IPython/core/displayhook.pyc'>,\n",
       " 'IPython.core.displaypub': <module 'IPython.core.displaypub' from '/Library/Python/2.7/site-packages/IPython/core/displaypub.pyc'>,\n",
       " 'IPython.core.errno': None,\n",
       " 'IPython.core.error': <module 'IPython.core.error' from '/Library/Python/2.7/site-packages/IPython/core/error.pyc'>,\n",
       " 'IPython.core.events': <module 'IPython.core.events' from '/Library/Python/2.7/site-packages/IPython/core/events.pyc'>,\n",
       " 'IPython.core.excolors': <module 'IPython.core.excolors' from '/Library/Python/2.7/site-packages/IPython/core/excolors.pyc'>,\n",
       " 'IPython.core.extensions': <module 'IPython.core.extensions' from '/Library/Python/2.7/site-packages/IPython/core/extensions.pyc'>,\n",
       " 'IPython.core.formatters': <module 'IPython.core.formatters' from '/Library/Python/2.7/site-packages/IPython/core/formatters.pyc'>,\n",
       " 'IPython.core.functools': None,\n",
       " 'IPython.core.getipython': <module 'IPython.core.getipython' from '/Library/Python/2.7/site-packages/IPython/core/getipython.pyc'>,\n",
       " 'IPython.core.getopt': None,\n",
       " 'IPython.core.glob': None,\n",
       " 'IPython.core.hashlib': None,\n",
       " 'IPython.core.history': <module 'IPython.core.history' from '/Library/Python/2.7/site-packages/IPython/core/history.pyc'>,\n",
       " 'IPython.core.hooks': <module 'IPython.core.hooks' from '/Library/Python/2.7/site-packages/IPython/core/hooks.pyc'>,\n",
       " 'IPython.core.imp': None,\n",
       " 'IPython.core.importlib': None,\n",
       " 'IPython.core.inputsplitter': <module 'IPython.core.inputsplitter' from '/Library/Python/2.7/site-packages/IPython/core/inputsplitter.pyc'>,\n",
       " 'IPython.core.inputtransformer': <module 'IPython.core.inputtransformer' from '/Library/Python/2.7/site-packages/IPython/core/inputtransformer.pyc'>,\n",
       " 'IPython.core.inspect': None,\n",
       " 'IPython.core.interactiveshell': <module 'IPython.core.interactiveshell' from '/Library/Python/2.7/site-packages/IPython/core/interactiveshell.pyc'>,\n",
       " 'IPython.core.io': None,\n",
       " 'IPython.core.itertools': None,\n",
       " 'IPython.core.json': None,\n",
       " 'IPython.core.keyword': None,\n",
       " 'IPython.core.latex_symbols': <module 'IPython.core.latex_symbols' from '/Library/Python/2.7/site-packages/IPython/core/latex_symbols.pyc'>,\n",
       " 'IPython.core.linecache': None,\n",
       " 'IPython.core.logger': <module 'IPython.core.logger' from '/Library/Python/2.7/site-packages/IPython/core/logger.pyc'>,\n",
       " 'IPython.core.logging': None,\n",
       " 'IPython.core.macro': <module 'IPython.core.macro' from '/Library/Python/2.7/site-packages/IPython/core/macro.pyc'>,\n",
       " 'IPython.core.magic': <module 'IPython.core.magic' from '/Library/Python/2.7/site-packages/IPython/core/magic.pyc'>,\n",
       " 'IPython.core.magic_arguments': <module 'IPython.core.magic_arguments' from '/Library/Python/2.7/site-packages/IPython/core/magic_arguments.pyc'>,\n",
       " 'IPython.core.magics': <module 'IPython.core.magics' from '/Library/Python/2.7/site-packages/IPython/core/magics/__init__.pyc'>,\n",
       " 'IPython.core.magics.IPython': None,\n",
       " 'IPython.core.magics.StringIO': None,\n",
       " 'IPython.core.magics.__future__': None,\n",
       " 'IPython.core.magics.ast': None,\n",
       " 'IPython.core.magics.atexit': None,\n",
       " 'IPython.core.magics.auto': <module 'IPython.core.magics.auto' from '/Library/Python/2.7/site-packages/IPython/core/magics/auto.pyc'>,\n",
       " 'IPython.core.magics.basic': <module 'IPython.core.magics.basic' from '/Library/Python/2.7/site-packages/IPython/core/magics/basic.pyc'>,\n",
       " 'IPython.core.magics.bdb': None,\n",
       " 'IPython.core.magics.cProfile': None,\n",
       " 'IPython.core.magics.code': <module 'IPython.core.magics.code' from '/Library/Python/2.7/site-packages/IPython/core/magics/code.pyc'>,\n",
       " 'IPython.core.magics.config': <module 'IPython.core.magics.config' from '/Library/Python/2.7/site-packages/IPython/core/magics/config.pyc'>,\n",
       " 'IPython.core.magics.deprecated': <module 'IPython.core.magics.deprecated' from '/Library/Python/2.7/site-packages/IPython/core/magics/deprecated.pyc'>,\n",
       " 'IPython.core.magics.display': <module 'IPython.core.magics.display' from '/Library/Python/2.7/site-packages/IPython/core/magics/display.pyc'>,\n",
       " 'IPython.core.magics.errno': None,\n",
       " 'IPython.core.magics.execution': <module 'IPython.core.magics.execution' from '/Library/Python/2.7/site-packages/IPython/core/magics/execution.pyc'>,\n",
       " 'IPython.core.magics.extension': <module 'IPython.core.magics.extension' from '/Library/Python/2.7/site-packages/IPython/core/magics/extension.pyc'>,\n",
       " 'IPython.core.magics.gc': None,\n",
       " 'IPython.core.magics.history': <module 'IPython.core.magics.history' from '/Library/Python/2.7/site-packages/IPython/core/magics/history.pyc'>,\n",
       " 'IPython.core.magics.inspect': None,\n",
       " 'IPython.core.magics.io': None,\n",
       " 'IPython.core.magics.itertools': None,\n",
       " 'IPython.core.magics.json': None,\n",
       " 'IPython.core.magics.logging': <module 'IPython.core.magics.logging' from '/Library/Python/2.7/site-packages/IPython/core/magics/logging.pyc'>,\n",
       " 'IPython.core.magics.namespace': <module 'IPython.core.magics.namespace' from '/Library/Python/2.7/site-packages/IPython/core/magics/namespace.pyc'>,\n",
       " 'IPython.core.magics.os': None,\n",
       " 'IPython.core.magics.osm': <module 'IPython.core.magics.osm' from '/Library/Python/2.7/site-packages/IPython/core/magics/osm.pyc'>,\n",
       " 'IPython.core.magics.pdb': None,\n",
       " 'IPython.core.magics.pprint': None,\n",
       " 'IPython.core.magics.pstats': None,\n",
       " 'IPython.core.magics.pylab': <module 'IPython.core.magics.pylab' from '/Library/Python/2.7/site-packages/IPython/core/magics/pylab.pyc'>,\n",
       " 'IPython.core.magics.re': None,\n",
       " 'IPython.core.magics.script': <module 'IPython.core.magics.script' from '/Library/Python/2.7/site-packages/IPython/core/magics/script.pyc'>,\n",
       " 'IPython.core.magics.signal': None,\n",
       " 'IPython.core.magics.subprocess': None,\n",
       " 'IPython.core.magics.sys': None,\n",
       " 'IPython.core.magics.time': None,\n",
       " 'IPython.core.magics.timeit': None,\n",
       " 'IPython.core.mimetypes': None,\n",
       " 'IPython.core.oinspect': <module 'IPython.core.oinspect' from '/Library/Python/2.7/site-packages/IPython/core/oinspect.pyc'>,\n",
       " 'IPython.core.operator': None,\n",
       " 'IPython.core.os': None,\n",
       " 'IPython.core.page': <module 'IPython.core.page' from '/Library/Python/2.7/site-packages/IPython/core/page.pyc'>,\n",
       " 'IPython.core.payload': <module 'IPython.core.payload' from '/Library/Python/2.7/site-packages/IPython/core/payload.pyc'>,\n",
       " 'IPython.core.payloadpage': <module 'IPython.core.payloadpage' from '/Library/Python/2.7/site-packages/IPython/core/payloadpage.pyc'>,\n",
       " 'IPython.core.pdb': None,\n",
       " 'IPython.core.pprint': None,\n",
       " 'IPython.core.prefilter': <module 'IPython.core.prefilter' from '/Library/Python/2.7/site-packages/IPython/core/prefilter.pyc'>,\n",
       " 'IPython.core.profiledir': <module 'IPython.core.profiledir' from '/Library/Python/2.7/site-packages/IPython/core/profiledir.pyc'>,\n",
       " 'IPython.core.prompts': <module 'IPython.core.prompts' from '/Library/Python/2.7/site-packages/IPython/core/prompts.pyc'>,\n",
       " 'IPython.core.pydoc': None,\n",
       " 'IPython.core.pylabtools': <module 'IPython.core.pylabtools' from '/Library/Python/2.7/site-packages/IPython/core/pylabtools.pyc'>,\n",
       " 'IPython.core.re': None,\n",
       " 'IPython.core.release': <module 'IPython.core.release' from '/Library/Python/2.7/site-packages/IPython/core/release.pyc'>,\n",
       " 'IPython.core.shadowns': <module 'IPython.core.shadowns' from '/Library/Python/2.7/site-packages/IPython/core/shadowns.pyc'>,\n",
       " 'IPython.core.shellapp': <module 'IPython.core.shellapp' from '/Library/Python/2.7/site-packages/IPython/core/shellapp.pyc'>,\n",
       " 'IPython.core.shutil': None,\n",
       " 'IPython.core.socket': None,\n",
       " 'IPython.core.splitinput': <module 'IPython.core.splitinput' from '/Library/Python/2.7/site-packages/IPython/core/splitinput.pyc'>,\n",
       " 'IPython.core.sqlite3': None,\n",
       " 'IPython.core.string': None,\n",
       " 'IPython.core.struct': None,\n",
       " 'IPython.core.subprocess': None,\n",
       " 'IPython.core.sys': None,\n",
       " 'IPython.core.tempfile': None,\n",
       " 'IPython.core.textwrap': None,\n",
       " 'IPython.core.threading': None,\n",
       " 'IPython.core.time': None,\n",
       " 'IPython.core.tokenize': None,\n",
       " 'IPython.core.traceback': None,\n",
       " 'IPython.core.types': None,\n",
       " 'IPython.core.ultratb': <module 'IPython.core.ultratb' from '/Library/Python/2.7/site-packages/IPython/core/ultratb.pyc'>,\n",
       " 'IPython.core.usage': <module 'IPython.core.usage' from '/Library/Python/2.7/site-packages/IPython/core/usage.pyc'>,\n",
       " 'IPython.core.warnings': None,\n",
       " 'IPython.core.zipimport': None,\n",
       " 'IPython.display': <module 'IPython.display' from '/Library/Python/2.7/site-packages/IPython/display.pyc'>,\n",
       " 'IPython.extensions': <module 'IPython.extensions' from '/Library/Python/2.7/site-packages/IPython/extensions/__init__.pyc'>,\n",
       " 'IPython.extensions.IPython': None,\n",
       " 'IPython.extensions.__future__': None,\n",
       " 'IPython.extensions.inspect': None,\n",
       " 'IPython.extensions.os': None,\n",
       " 'IPython.extensions.storemagic': <module 'IPython.extensions.storemagic' from '/Library/Python/2.7/site-packages/IPython/extensions/storemagic.pyc'>,\n",
       " 'IPython.extensions.sys': None,\n",
       " 'IPython.extensions.textwrap': None,\n",
       " 'IPython.external': <module 'IPython.external' from '/Library/Python/2.7/site-packages/IPython/external/__init__.pyc'>,\n",
       " 'IPython.external.decorator': <module 'IPython.external.decorator' from '/Library/Python/2.7/site-packages/IPython/external/decorator/__init__.pyc'>,\n",
       " 'IPython.external.decorator.__future__': None,\n",
       " 'IPython.external.decorator._decorator': <module 'IPython.external.decorator._decorator' from '/Library/Python/2.7/site-packages/IPython/external/decorator/_decorator.pyc'>,\n",
       " 'IPython.external.decorator.functools': None,\n",
       " 'IPython.external.decorator.inspect': None,\n",
       " 'IPython.external.decorator.re': None,\n",
       " 'IPython.external.decorator.sys': None,\n",
       " 'IPython.external.path': <module 'IPython.external.path' from '/Library/Python/2.7/site-packages/IPython/external/path/__init__.pyc'>,\n",
       " 'IPython.external.path.__future__': None,\n",
       " 'IPython.external.path._path': <module 'IPython.external.path._path' from '/Library/Python/2.7/site-packages/IPython/external/path/_path.pyc'>,\n",
       " 'IPython.external.path.codecs': None,\n",
       " 'IPython.external.path.errno': None,\n",
       " 'IPython.external.path.fnmatch': None,\n",
       " 'IPython.external.path.functools': None,\n",
       " 'IPython.external.path.glob': None,\n",
       " 'IPython.external.path.hashlib': None,\n",
       " 'IPython.external.path.operator': None,\n",
       " 'IPython.external.path.os': None,\n",
       " 'IPython.external.path.pwd': None,\n",
       " 'IPython.external.path.re': None,\n",
       " 'IPython.external.path.shutil': None,\n",
       " 'IPython.external.path.sys': None,\n",
       " 'IPython.external.path.tempfile': None,\n",
       " 'IPython.external.path.warnings': None,\n",
       " 'IPython.external.pexpect': <module 'IPython.external.pexpect' from '/Library/Python/2.7/site-packages/IPython/external/pexpect/__init__.pyc'>,\n",
       " 'IPython.external.pexpect._pexpect': <module 'IPython.external.pexpect._pexpect' from '/Library/Python/2.7/site-packages/IPython/external/pexpect/_pexpect.pyc'>,\n",
       " 'IPython.external.pexpect.codecs': None,\n",
       " 'IPython.external.pexpect.errno': None,\n",
       " 'IPython.external.pexpect.fcntl': None,\n",
       " 'IPython.external.pexpect.os': None,\n",
       " 'IPython.external.pexpect.pty': None,\n",
       " 'IPython.external.pexpect.re': None,\n",
       " 'IPython.external.pexpect.resource': None,\n",
       " 'IPython.external.pexpect.select': None,\n",
       " 'IPython.external.pexpect.signal': None,\n",
       " 'IPython.external.pexpect.stat': None,\n",
       " 'IPython.external.pexpect.struct': None,\n",
       " 'IPython.external.pexpect.sys': None,\n",
       " 'IPython.external.pexpect.termios': None,\n",
       " 'IPython.external.pexpect.time': None,\n",
       " 'IPython.external.pexpect.traceback': None,\n",
       " 'IPython.external.pexpect.tty': None,\n",
       " 'IPython.external.pexpect.types': None,\n",
       " 'IPython.external.simplegeneric': <module 'IPython.external.simplegeneric' from '/Library/Python/2.7/site-packages/IPython/external/simplegeneric/__init__.pyc'>,\n",
       " 'IPython.external.simplegeneric._simplegeneric': <module 'IPython.external.simplegeneric._simplegeneric' from '/Library/Python/2.7/site-packages/IPython/external/simplegeneric/_simplegeneric.pyc'>,\n",
       " 'IPython.external.simplegeneric.types': None,\n",
       " 'IPython.html': <module 'IPython.html' from '/Library/Python/2.7/site-packages/IPython/html/__init__.pyc'>,\n",
       " 'IPython.html.IPython': None,\n",
       " 'IPython.html.__future__': None,\n",
       " 'IPython.html.nbextensions': <module 'IPython.html.nbextensions' from '/Library/Python/2.7/site-packages/IPython/html/nbextensions.pyc'>,\n",
       " 'IPython.html.os': None,\n",
       " 'IPython.html.shutil': None,\n",
       " 'IPython.html.sys': None,\n",
       " 'IPython.html.tarfile': None,\n",
       " 'IPython.html.urllib': None,\n",
       " 'IPython.html.urlparse': None,\n",
       " 'IPython.html.uuid': None,\n",
       " 'IPython.html.zipfile': None,\n",
       " 'IPython.kernel': <module 'IPython.kernel' from '/Library/Python/2.7/site-packages/IPython/kernel/__init__.pyc'>,\n",
       " 'IPython.kernel.IPython': None,\n",
       " 'IPython.kernel.abc': None,\n",
       " 'IPython.kernel.adapter': <module 'IPython.kernel.adapter' from '/Library/Python/2.7/site-packages/IPython/kernel/adapter.pyc'>,\n",
       " 'IPython.kernel.blocking': <module 'IPython.kernel.blocking' from '/Library/Python/2.7/site-packages/IPython/kernel/blocking/__init__.pyc'>,\n",
       " 'IPython.kernel.blocking.IPython': None,\n",
       " 'IPython.kernel.blocking.Queue': None,\n",
       " 'IPython.kernel.blocking.channels': <module 'IPython.kernel.blocking.channels' from '/Library/Python/2.7/site-packages/IPython/kernel/blocking/channels.pyc'>,\n",
       " 'IPython.kernel.blocking.client': <module 'IPython.kernel.blocking.client' from '/Library/Python/2.7/site-packages/IPython/kernel/blocking/client.pyc'>,\n",
       " 'IPython.kernel.channels': <module 'IPython.kernel.channels' from '/Library/Python/2.7/site-packages/IPython/kernel/channels.pyc'>,\n",
       " 'IPython.kernel.channelsabc': <module 'IPython.kernel.channelsabc' from '/Library/Python/2.7/site-packages/IPython/kernel/channelsabc.pyc'>,\n",
       " 'IPython.kernel.client': <module 'IPython.kernel.client' from '/Library/Python/2.7/site-packages/IPython/kernel/client.pyc'>,\n",
       " 'IPython.kernel.clientabc': <module 'IPython.kernel.clientabc' from '/Library/Python/2.7/site-packages/IPython/kernel/clientabc.pyc'>,\n",
       " 'IPython.kernel.comm': <module 'IPython.kernel.comm' from '/Library/Python/2.7/site-packages/IPython/kernel/comm/__init__.pyc'>,\n",
       " 'IPython.kernel.comm.IPython': None,\n",
       " 'IPython.kernel.comm.comm': <module 'IPython.kernel.comm.comm' from '/Library/Python/2.7/site-packages/IPython/kernel/comm/comm.pyc'>,\n",
       " 'IPython.kernel.comm.manager': <module 'IPython.kernel.comm.manager' from '/Library/Python/2.7/site-packages/IPython/kernel/comm/manager.pyc'>,\n",
       " 'IPython.kernel.comm.sys': None,\n",
       " 'IPython.kernel.comm.threading': None,\n",
       " 'IPython.kernel.comm.uuid': None,\n",
       " 'IPython.kernel.comm.zmq': None,\n",
       " 'IPython.kernel.connect': <module 'IPython.kernel.connect' from '/Library/Python/2.7/site-packages/IPython/kernel/connect.pyc'>,\n",
       " 'IPython.kernel.inprocess': <module 'IPython.kernel.inprocess' from '/Library/Python/2.7/site-packages/IPython/kernel/inprocess/__init__.pyc'>,\n",
       " 'IPython.kernel.inprocess.IPython': None,\n",
       " 'IPython.kernel.inprocess.Queue': None,\n",
       " 'IPython.kernel.inprocess.abc': None,\n",
       " 'IPython.kernel.inprocess.blocking': <module 'IPython.kernel.inprocess.blocking' from '/Library/Python/2.7/site-packages/IPython/kernel/inprocess/blocking.pyc'>,\n",
       " 'IPython.kernel.inprocess.channels': <module 'IPython.kernel.inprocess.channels' from '/Library/Python/2.7/site-packages/IPython/kernel/inprocess/channels.pyc'>,\n",
       " 'IPython.kernel.inprocess.client': <module 'IPython.kernel.inprocess.client' from '/Library/Python/2.7/site-packages/IPython/kernel/inprocess/client.pyc'>,\n",
       " 'IPython.kernel.inprocess.manager': <module 'IPython.kernel.inprocess.manager' from '/Library/Python/2.7/site-packages/IPython/kernel/inprocess/manager.pyc'>,\n",
       " 'IPython.kernel.inprocess.socket': <module 'IPython.kernel.inprocess.socket' from '/Library/Python/2.7/site-packages/IPython/kernel/inprocess/socket.pyc'>,\n",
       " 'IPython.kernel.inprocess.zmq': None,\n",
       " 'IPython.kernel.io': None,\n",
       " 'IPython.kernel.json': None,\n",
       " 'IPython.kernel.kernelspec': <module 'IPython.kernel.kernelspec' from '/Library/Python/2.7/site-packages/IPython/kernel/kernelspec.pyc'>,\n",
       " 'IPython.kernel.launcher': <module 'IPython.kernel.launcher' from '/Library/Python/2.7/site-packages/IPython/kernel/launcher.pyc'>,\n",
       " 'IPython.kernel.manager': <module 'IPython.kernel.manager' from '/Library/Python/2.7/site-packages/IPython/kernel/manager.pyc'>,\n",
       " 'IPython.kernel.managerabc': <module 'IPython.kernel.managerabc' from '/Library/Python/2.7/site-packages/IPython/kernel/managerabc.pyc'>,\n",
       " 'IPython.kernel.multikernelmanager': <module 'IPython.kernel.multikernelmanager' from '/Library/Python/2.7/site-packages/IPython/kernel/multikernelmanager.pyc'>,\n",
       " 'IPython.kernel.os': None,\n",
       " 'IPython.kernel.shutil': None,\n",
       " 'IPython.kernel.subprocess': None,\n",
       " 'IPython.kernel.sys': None,\n",
       " 'IPython.kernel.zmq': <module 'IPython.kernel.zmq' from '/Library/Python/2.7/site-packages/IPython/kernel/zmq/__init__.pyc'>,\n",
       " 'IPython.kernel.zmq.IPython': None,\n",
       " 'IPython.kernel.zmq.__future__': None,\n",
       " 'IPython.kernel.zmq.atexit': None,\n",
       " 'IPython.kernel.zmq.cPickle': None,\n",
       " 'IPython.kernel.zmq.ctypes': None,\n",
       " 'IPython.kernel.zmq.datapub': <module 'IPython.kernel.zmq.datapub' from '/Library/Python/2.7/site-packages/IPython/kernel/zmq/datapub.pyc'>,\n",
       " 'IPython.kernel.zmq.datetime': None,\n",
       " 'IPython.kernel.zmq.displayhook': <module 'IPython.kernel.zmq.displayhook' from '/Library/Python/2.7/site-packages/IPython/kernel/zmq/displayhook.pyc'>,\n",
       " 'IPython.kernel.zmq.errno': None,\n",
       " 'IPython.kernel.zmq.getpass': None,\n",
       " 'IPython.kernel.zmq.hashlib': None,\n",
       " 'IPython.kernel.zmq.heartbeat': <module 'IPython.kernel.zmq.heartbeat' from '/Library/Python/2.7/site-packages/IPython/kernel/zmq/heartbeat.pyc'>,\n",
       " 'IPython.kernel.zmq.hmac': None,\n",
       " 'IPython.kernel.zmq.io': None,\n",
       " 'IPython.kernel.zmq.iostream': <module 'IPython.kernel.zmq.iostream' from '/Library/Python/2.7/site-packages/IPython/kernel/zmq/iostream.pyc'>,\n",
       " 'IPython.kernel.zmq.ipkernel': <module 'IPython.kernel.zmq.ipkernel' from '/Library/Python/2.7/site-packages/IPython/kernel/zmq/ipkernel.pyc'>,\n",
       " 'IPython.kernel.zmq.kernelapp': <module 'IPython.kernel.zmq.kernelapp' from '/Library/Python/2.7/site-packages/IPython/kernel/zmq/kernelapp.pyc'>,\n",
       " 'IPython.kernel.zmq.kernelbase': <module 'IPython.kernel.zmq.kernelbase' from '/Library/Python/2.7/site-packages/IPython/kernel/zmq/kernelbase.pyc'>,\n",
       " 'IPython.kernel.zmq.logging': None,\n",
       " 'IPython.kernel.zmq.os': None,\n",
       " 'IPython.kernel.zmq.parentpoller': <module 'IPython.kernel.zmq.parentpoller' from '/Library/Python/2.7/site-packages/IPython/kernel/zmq/parentpoller.pyc'>,\n",
       " 'IPython.kernel.zmq.platform': None,\n",
       " 'IPython.kernel.zmq.pprint': None,\n",
       " 'IPython.kernel.zmq.random': None,\n",
       " 'IPython.kernel.zmq.serialize': <module 'IPython.kernel.zmq.serialize' from '/Library/Python/2.7/site-packages/IPython/kernel/zmq/serialize.pyc'>,\n",
       " 'IPython.kernel.zmq.session': <module 'IPython.kernel.zmq.session' from '/Library/Python/2.7/site-packages/IPython/kernel/zmq/session.pyc'>,\n",
       " 'IPython.kernel.zmq.signal': None,\n",
       " 'IPython.kernel.zmq.socket': None,\n",
       " 'IPython.kernel.zmq.sys': None,\n",
       " 'IPython.kernel.zmq.thread': None,\n",
       " 'IPython.kernel.zmq.threading': None,\n",
       " 'IPython.kernel.zmq.time': None,\n",
       " 'IPython.kernel.zmq.traceback': None,\n",
       " 'IPython.kernel.zmq.uuid': None,\n",
       " 'IPython.kernel.zmq.warnings': None,\n",
       " 'IPython.kernel.zmq.zmq': None,\n",
       " 'IPython.kernel.zmq.zmqshell': <module 'IPython.kernel.zmq.zmqshell' from '/Library/Python/2.7/site-packages/IPython/kernel/zmq/zmqshell.pyc'>,\n",
       " 'IPython.lib': <module 'IPython.lib' from '/Library/Python/2.7/site-packages/IPython/lib/__init__.pyc'>,\n",
       " 'IPython.lib.IPython': None,\n",
       " 'IPython.lib.StringIO': None,\n",
       " 'IPython.lib.__future__': None,\n",
       " 'IPython.lib.backgroundjobs': <module 'IPython.lib.backgroundjobs' from '/Library/Python/2.7/site-packages/IPython/lib/backgroundjobs.pyc'>,\n",
       " 'IPython.lib.clipboard': <module 'IPython.lib.clipboard' from '/Library/Python/2.7/site-packages/IPython/lib/clipboard.pyc'>,\n",
       " 'IPython.lib.collections': None,\n",
       " 'IPython.lib.contextlib': None,\n",
       " 'IPython.lib.ctypes': None,\n",
       " 'IPython.lib.datetime': None,\n",
       " 'IPython.lib.deepreload': <module 'IPython.lib.deepreload' from '/Library/Python/2.7/site-packages/IPython/lib/deepreload.pyc'>,\n",
       " 'IPython.lib.display': <module 'IPython.lib.display' from '/Library/Python/2.7/site-packages/IPython/lib/display.pyc'>,\n",
       " 'IPython.lib.distutils': None,\n",
       " 'IPython.lib.getpass': None,\n",
       " 'IPython.lib.hashlib': None,\n",
       " 'IPython.lib.imp': None,\n",
       " 'IPython.lib.inputhook': <module 'IPython.lib.inputhook' from '/Library/Python/2.7/site-packages/IPython/lib/inputhook.pyc'>,\n",
       " 'IPython.lib.os': None,\n",
       " 'IPython.lib.pretty': <module 'IPython.lib.pretty' from '/Library/Python/2.7/site-packages/IPython/lib/pretty.pyc'>,\n",
       " 'IPython.lib.random': None,\n",
       " 'IPython.lib.re': None,\n",
       " 'IPython.lib.security': <module 'IPython.lib.security' from '/Library/Python/2.7/site-packages/IPython/lib/security.pyc'>,\n",
       " 'IPython.lib.select': None,\n",
       " 'IPython.lib.signal': None,\n",
       " 'IPython.lib.subprocess': None,\n",
       " 'IPython.lib.sys': None,\n",
       " 'IPython.lib.threading': None,\n",
       " 'IPython.lib.types': None,\n",
       " 'IPython.lib.warnings': None,\n",
       " 'IPython.terminal': <module 'IPython.terminal' from '/Library/Python/2.7/site-packages/IPython/terminal/__init__.pyc'>,\n",
       " 'IPython.terminal.IPython': None,\n",
       " 'IPython.terminal.__future__': None,\n",
       " 'IPython.terminal.bdb': None,\n",
       " 'IPython.terminal.embed': <module 'IPython.terminal.embed' from '/Library/Python/2.7/site-packages/IPython/terminal/embed.pyc'>,\n",
       " 'IPython.terminal.interactiveshell': <module 'IPython.terminal.interactiveshell' from '/Library/Python/2.7/site-packages/IPython/terminal/interactiveshell.pyc'>,\n",
       " 'IPython.terminal.ipapp': <module 'IPython.terminal.ipapp' from '/Library/Python/2.7/site-packages/IPython/terminal/ipapp.pyc'>,\n",
       " 'IPython.terminal.os': None,\n",
       " 'IPython.terminal.sys': None,\n",
       " 'IPython.terminal.warnings': None,\n",
       " 'IPython.testing': <module 'IPython.testing' from '/Library/Python/2.7/site-packages/IPython/testing/__init__.pyc'>,\n",
       " 'IPython.testing.skipdoctest': <module 'IPython.testing.skipdoctest' from '/Library/Python/2.7/site-packages/IPython/testing/skipdoctest.pyc'>,\n",
       " 'IPython.testing.sys': None,\n",
       " 'IPython.utils': <module 'IPython.utils' from '/Library/Python/2.7/site-packages/IPython/utils/__init__.pyc'>,\n",
       " 'IPython.utils.IPython': None,\n",
       " 'IPython.utils.PyColorize': <module 'IPython.utils.PyColorize' from '/Library/Python/2.7/site-packages/IPython/utils/PyColorize.pyc'>,\n",
       " 'IPython.utils.__builtin__': None,\n",
       " 'IPython.utils.__future__': None,\n",
       " 'IPython.utils._process_common': <module 'IPython.utils._process_common' from '/Library/Python/2.7/site-packages/IPython/utils/_process_common.pyc'>,\n",
       " 'IPython.utils._process_posix': <module 'IPython.utils._process_posix' from '/Library/Python/2.7/site-packages/IPython/utils/_process_posix.pyc'>,\n",
       " 'IPython.utils._sysinfo': <module 'IPython.utils._sysinfo' from '/Library/Python/2.7/site-packages/IPython/utils/_sysinfo.pyc'>,\n",
       " 'IPython.utils._tokenize_py2': <module 'IPython.utils._tokenize_py2' from '/Library/Python/2.7/site-packages/IPython/utils/_tokenize_py2.pyc'>,\n",
       " 'IPython.utils.base64': None,\n",
       " 'IPython.utils.cPickle': None,\n",
       " 'IPython.utils.capture': <module 'IPython.utils.capture' from '/Library/Python/2.7/site-packages/IPython/utils/capture.pyc'>,\n",
       " 'IPython.utils.codeutil': <module 'IPython.utils.codeutil' from '/Library/Python/2.7/site-packages/IPython/utils/codeutil.pyc'>,\n",
       " 'IPython.utils.collections': None,\n",
       " 'IPython.utils.coloransi': <module 'IPython.utils.coloransi' from '/Library/Python/2.7/site-packages/IPython/utils/coloransi.pyc'>,\n",
       " 'IPython.utils.contextlib': None,\n",
       " 'IPython.utils.contexts': <module 'IPython.utils.contexts' from '/Library/Python/2.7/site-packages/IPython/utils/contexts.pyc'>,\n",
       " 'IPython.utils.copy': None,\n",
       " 'IPython.utils.copy_reg': None,\n",
       " 'IPython.utils.data': <module 'IPython.utils.data' from '/Library/Python/2.7/site-packages/IPython/utils/data.pyc'>,\n",
       " 'IPython.utils.datetime': None,\n",
       " 'IPython.utils.decorators': <module 'IPython.utils.decorators' from '/Library/Python/2.7/site-packages/IPython/utils/decorators.pyc'>,\n",
       " 'IPython.utils.dir2': <module 'IPython.utils.dir2' from '/Library/Python/2.7/site-packages/IPython/utils/dir2.pyc'>,\n",
       " 'IPython.utils.distutils': None,\n",
       " 'IPython.utils.encoding': <module 'IPython.utils.encoding' from '/Library/Python/2.7/site-packages/IPython/utils/encoding.pyc'>,\n",
       " 'IPython.utils.errno': None,\n",
       " 'IPython.utils.eventful': <module 'IPython.utils.eventful' from '/Library/Python/2.7/site-packages/IPython/utils/eventful.pyc'>,\n",
       " 'IPython.utils.frame': <module 'IPython.utils.frame' from '/Library/Python/2.7/site-packages/IPython/utils/frame.pyc'>,\n",
       " 'IPython.utils.functools': None,\n",
       " 'IPython.utils.generics': <module 'IPython.utils.generics' from '/Library/Python/2.7/site-packages/IPython/utils/generics.pyc'>,\n",
       " 'IPython.utils.glob': None,\n",
       " 'IPython.utils.hashlib': None,\n",
       " 'IPython.utils.imp': None,\n",
       " 'IPython.utils.importstring': <module 'IPython.utils.importstring' from '/Library/Python/2.7/site-packages/IPython/utils/importstring.pyc'>,\n",
       " 'IPython.utils.inspect': None,\n",
       " 'IPython.utils.io': <module 'IPython.utils.io' from '/Library/Python/2.7/site-packages/IPython/utils/io.pyc'>,\n",
       " 'IPython.utils.ipstruct': <module 'IPython.utils.ipstruct' from '/Library/Python/2.7/site-packages/IPython/utils/ipstruct.pyc'>,\n",
       " 'IPython.utils.jsonutil': <module 'IPython.utils.jsonutil' from '/Library/Python/2.7/site-packages/IPython/utils/jsonutil.pyc'>,\n",
       " 'IPython.utils.linecache': None,\n",
       " 'IPython.utils.locale': None,\n",
       " 'IPython.utils.localinterfaces': <module 'IPython.utils.localinterfaces' from '/Library/Python/2.7/site-packages/IPython/utils/localinterfaces.pyc'>,\n",
       " 'IPython.utils.log': <module 'IPython.utils.log' from '/Library/Python/2.7/site-packages/IPython/utils/log.pyc'>,\n",
       " 'IPython.utils.logging': None,\n",
       " 'IPython.utils.math': None,\n",
       " 'IPython.utils.module_paths': <module 'IPython.utils.module_paths' from '/Library/Python/2.7/site-packages/IPython/utils/module_paths.pyc'>,\n",
       " 'IPython.utils.openpy': <module 'IPython.utils.openpy' from '/Library/Python/2.7/site-packages/IPython/utils/openpy.pyc'>,\n",
       " 'IPython.utils.os': None,\n",
       " 'IPython.utils.path': <module 'IPython.utils.path' from '/Library/Python/2.7/site-packages/IPython/utils/path.pyc'>,\n",
       " 'IPython.utils.pickleshare': <module 'IPython.utils.pickleshare' from '/Library/Python/2.7/site-packages/IPython/utils/pickleshare.pyc'>,\n",
       " 'IPython.utils.pickleutil': <module 'IPython.utils.pickleutil' from '/Library/Python/2.7/site-packages/IPython/utils/pickleutil.pyc'>,\n",
       " 'IPython.utils.platform': None,\n",
       " 'IPython.utils.pprint': None,\n",
       " 'IPython.utils.process': <module 'IPython.utils.process' from '/Library/Python/2.7/site-packages/IPython/utils/process.pyc'>,\n",
       " 'IPython.utils.py3compat': <module 'IPython.utils.py3compat' from '/Library/Python/2.7/site-packages/IPython/utils/py3compat.pyc'>,\n",
       " 'IPython.utils.random': None,\n",
       " 'IPython.utils.re': None,\n",
       " 'IPython.utils.resource': None,\n",
       " 'IPython.utils.rlineimpl': <module 'IPython.utils.rlineimpl' from '/Library/Python/2.7/site-packages/IPython/utils/rlineimpl.pyc'>,\n",
       " 'IPython.utils.shlex': None,\n",
       " 'IPython.utils.shutil': None,\n",
       " 'IPython.utils.signatures': <module 'IPython.utils.signatures' from '/Library/Python/2.7/site-packages/IPython/utils/signatures.pyc'>,\n",
       " 'IPython.utils.socket': None,\n",
       " 'IPython.utils.stat': None,\n",
       " 'IPython.utils.strdispatch': <module 'IPython.utils.strdispatch' from '/Library/Python/2.7/site-packages/IPython/utils/strdispatch.pyc'>,\n",
       " 'IPython.utils.string': None,\n",
       " 'IPython.utils.struct': None,\n",
       " 'IPython.utils.subprocess': None,\n",
       " 'IPython.utils.sys': None,\n",
       " 'IPython.utils.sysinfo': <module 'IPython.utils.sysinfo' from '/Library/Python/2.7/site-packages/IPython/utils/sysinfo.pyc'>,\n",
       " 'IPython.utils.syspathcontext': <module 'IPython.utils.syspathcontext' from '/Library/Python/2.7/site-packages/IPython/utils/syspathcontext.pyc'>,\n",
       " 'IPython.utils.tempdir': <module 'IPython.utils.tempdir' from '/Library/Python/2.7/site-packages/IPython/utils/tempdir.pyc'>,\n",
       " 'IPython.utils.tempfile': None,\n",
       " 'IPython.utils.terminal': <module 'IPython.utils.terminal' from '/Library/Python/2.7/site-packages/IPython/utils/terminal.pyc'>,\n",
       " 'IPython.utils.text': <module 'IPython.utils.text' from '/Library/Python/2.7/site-packages/IPython/utils/text.pyc'>,\n",
       " 'IPython.utils.textwrap': None,\n",
       " 'IPython.utils.time': None,\n",
       " 'IPython.utils.timing': <module 'IPython.utils.timing' from '/Library/Python/2.7/site-packages/IPython/utils/timing.pyc'>,\n",
       " 'IPython.utils.token': None,\n",
       " 'IPython.utils.tokenize2': <module 'IPython.utils.tokenize2' from '/Library/Python/2.7/site-packages/IPython/utils/tokenize2.pyc'>,\n",
       " 'IPython.utils.tokenutil': <module 'IPython.utils.tokenutil' from '/Library/Python/2.7/site-packages/IPython/utils/tokenutil.pyc'>,\n",
       " 'IPython.utils.traitlets': <module 'IPython.utils.traitlets' from '/Library/Python/2.7/site-packages/IPython/utils/traitlets.pyc'>,\n",
       " 'IPython.utils.types': None,\n",
       " 'IPython.utils.ulinecache': <module 'IPython.utils.ulinecache' from '/Library/Python/2.7/site-packages/IPython/utils/ulinecache.pyc'>,\n",
       " 'IPython.utils.version': <module 'IPython.utils.version' from '/Library/Python/2.7/site-packages/IPython/utils/version.pyc'>,\n",
       " 'IPython.utils.warn': <module 'IPython.utils.warn' from '/Library/Python/2.7/site-packages/IPython/utils/warn.pyc'>,\n",
       " 'IPython.utils.warnings': None,\n",
       " 'IPython.utils.wildcard': <module 'IPython.utils.wildcard' from '/Library/Python/2.7/site-packages/IPython/utils/wildcard.pyc'>,\n",
       " 'IPython.utils.zmq': None,\n",
       " 'IPython.utils.zmqrelated': <module 'IPython.utils.zmqrelated' from '/Library/Python/2.7/site-packages/IPython/utils/zmqrelated.pyc'>,\n",
       " 'Queue': <module 'Queue' from '/System/Library/Frameworks/Python.framework/Versions/2.7/lib/python2.7/Queue.pyc'>,\n",
       " 'StringIO': <module 'StringIO' from '/System/Library/Frameworks/Python.framework/Versions/2.7/lib/python2.7/StringIO.pyc'>,\n",
       " 'UserDict': <module 'UserDict' from '/System/Library/Frameworks/Python.framework/Versions/2.7/lib/python2.7/UserDict.pyc'>,\n",
       " '__builtin__': <module '__builtin__' (built-in)>,\n",
       " '__future__': <module '__future__' from '/System/Library/Frameworks/Python.framework/Versions/2.7/lib/python2.7/__future__.pyc'>,\n",
       " '__main__': <module '__main__' (built-in)>,\n",
       " '_abcoll': <module '_abcoll' from '/System/Library/Frameworks/Python.framework/Versions/2.7/lib/python2.7/_abcoll.pyc'>,\n",
       " '_ast': <module '_ast' (built-in)>,\n",
       " '_codecs': <module '_codecs' (built-in)>,\n",
       " '_collections': <module '_collections' from '/System/Library/Frameworks/Python.framework/Versions/2.7/lib/python2.7/lib-dynload/_collections.so'>,\n",
       " '_ctypes': <module '_ctypes' from '/System/Library/Frameworks/Python.framework/Versions/2.7/lib/python2.7/lib-dynload/_ctypes.so'>,\n",
       " '_curses': <module '_curses' from '/System/Library/Frameworks/Python.framework/Versions/2.7/lib/python2.7/lib-dynload/_curses.so'>,\n",
       " '_functools': <module '_functools' from '/System/Library/Frameworks/Python.framework/Versions/2.7/lib/python2.7/lib-dynload/_functools.so'>,\n",
       " '_hashlib': <module '_hashlib' from '/System/Library/Frameworks/Python.framework/Versions/2.7/lib/python2.7/lib-dynload/_hashlib.so'>,\n",
       " '_heapq': <module '_heapq' from '/System/Library/Frameworks/Python.framework/Versions/2.7/lib/python2.7/lib-dynload/_heapq.so'>,\n",
       " '_io': <module '_io' from '/System/Library/Frameworks/Python.framework/Versions/2.7/lib/python2.7/lib-dynload/_io.so'>,\n",
       " '_json': <module '_json' from '/System/Library/Frameworks/Python.framework/Versions/2.7/lib/python2.7/lib-dynload/_json.so'>,\n",
       " '_locale': <module '_locale' from '/System/Library/Frameworks/Python.framework/Versions/2.7/lib/python2.7/lib-dynload/_locale.so'>,\n",
       " '_lsprof': <module '_lsprof' from '/System/Library/Frameworks/Python.framework/Versions/2.7/lib/python2.7/lib-dynload/_lsprof.so'>,\n",
       " '_multiprocessing': <module '_multiprocessing' from '/System/Library/Frameworks/Python.framework/Versions/2.7/lib/python2.7/lib-dynload/_multiprocessing.so'>,\n",
       " '_osx_support': <module '_osx_support' from '/System/Library/Frameworks/Python.framework/Versions/2.7/lib/python2.7/_osx_support.pyc'>,\n",
       " '_random': <module '_random' from '/System/Library/Frameworks/Python.framework/Versions/2.7/lib/python2.7/lib-dynload/_random.so'>,\n",
       " '_scproxy': <module '_scproxy' from '/System/Library/Frameworks/Python.framework/Versions/2.7/lib/python2.7/lib-dynload/_scproxy.so'>,\n",
       " '_socket': <module '_socket' from '/System/Library/Frameworks/Python.framework/Versions/2.7/lib/python2.7/lib-dynload/_socket.so'>,\n",
       " '_sqlite3': <module '_sqlite3' from '/System/Library/Frameworks/Python.framework/Versions/2.7/lib/python2.7/lib-dynload/_sqlite3.so'>,\n",
       " '_sre': <module '_sre' (built-in)>,\n",
       " '_ssl': <module '_ssl' from '/System/Library/Frameworks/Python.framework/Versions/2.7/lib/python2.7/lib-dynload/_ssl.so'>,\n",
       " '_strptime': <module '_strptime' from '/System/Library/Frameworks/Python.framework/Versions/2.7/lib/python2.7/_strptime.pyc'>,\n",
       " '_struct': <module '_struct' from '/System/Library/Frameworks/Python.framework/Versions/2.7/lib/python2.7/lib-dynload/_struct.so'>,\n",
       " '_sysconfigdata': <module '_sysconfigdata' from '/System/Library/Frameworks/Python.framework/Versions/2.7/lib/python2.7/_sysconfigdata.pyc'>,\n",
       " '_warnings': <module '_warnings' (built-in)>,\n",
       " '_weakref': <module '_weakref' (built-in)>,\n",
       " '_weakrefset': <module '_weakrefset' from '/System/Library/Frameworks/Python.framework/Versions/2.7/lib/python2.7/_weakrefset.pyc'>,\n",
       " 'abc': <module 'abc' from '/System/Library/Frameworks/Python.framework/Versions/2.7/lib/python2.7/abc.pyc'>,\n",
       " 'argparse': <module 'argparse' from '/System/Library/Frameworks/Python.framework/Versions/2.7/lib/python2.7/argparse.pyc'>,\n",
       " 'array': <module 'array' from '/System/Library/Frameworks/Python.framework/Versions/2.7/lib/python2.7/lib-dynload/array.so'>,\n",
       " 'ast': <module 'ast' from '/System/Library/Frameworks/Python.framework/Versions/2.7/lib/python2.7/ast.pyc'>,\n",
       " 'atexit': <module 'atexit' from '/System/Library/Frameworks/Python.framework/Versions/2.7/lib/python2.7/atexit.pyc'>,\n",
       " 'base64': <module 'base64' from '/System/Library/Frameworks/Python.framework/Versions/2.7/lib/python2.7/base64.pyc'>,\n",
       " 'bdb': <module 'bdb' from '/System/Library/Frameworks/Python.framework/Versions/2.7/lib/python2.7/bdb.py'>,\n",
       " 'binascii': <module 'binascii' from '/System/Library/Frameworks/Python.framework/Versions/2.7/lib/python2.7/lib-dynload/binascii.so'>,\n",
       " 'cPickle': <module 'cPickle' from '/System/Library/Frameworks/Python.framework/Versions/2.7/lib/python2.7/lib-dynload/cPickle.so'>,\n",
       " 'cProfile': <module 'cProfile' from '/System/Library/Frameworks/Python.framework/Versions/2.7/lib/python2.7/cProfile.py'>,\n",
       " 'cStringIO': <module 'cStringIO' from '/System/Library/Frameworks/Python.framework/Versions/2.7/lib/python2.7/lib-dynload/cStringIO.so'>,\n",
       " 'calendar': <module 'calendar' from '/System/Library/Frameworks/Python.framework/Versions/2.7/lib/python2.7/calendar.pyc'>,\n",
       " 'cmd': <module 'cmd' from '/System/Library/Frameworks/Python.framework/Versions/2.7/lib/python2.7/cmd.py'>,\n",
       " 'codecs': <module 'codecs' from '/System/Library/Frameworks/Python.framework/Versions/2.7/lib/python2.7/codecs.pyc'>,\n",
       " 'codeop': <module 'codeop' from '/System/Library/Frameworks/Python.framework/Versions/2.7/lib/python2.7/codeop.py'>,\n",
       " 'collections': <module 'collections' from '/System/Library/Frameworks/Python.framework/Versions/2.7/lib/python2.7/collections.pyc'>,\n",
       " 'contextlib': <module 'contextlib' from '/System/Library/Frameworks/Python.framework/Versions/2.7/lib/python2.7/contextlib.pyc'>,\n",
       " 'copy': <module 'copy' from '/System/Library/Frameworks/Python.framework/Versions/2.7/lib/python2.7/copy.pyc'>,\n",
       " 'copy_reg': <module 'copy_reg' from '/System/Library/Frameworks/Python.framework/Versions/2.7/lib/python2.7/copy_reg.pyc'>,\n",
       " 'ctypes': <module 'ctypes' from '/System/Library/Frameworks/Python.framework/Versions/2.7/lib/python2.7/ctypes/__init__.pyc'>,\n",
       " 'ctypes._ctypes': None,\n",
       " 'ctypes._endian': <module 'ctypes._endian' from '/System/Library/Frameworks/Python.framework/Versions/2.7/lib/python2.7/ctypes/_endian.pyc'>,\n",
       " 'ctypes.ctypes': None,\n",
       " 'ctypes.macholib': <module 'ctypes.macholib' from '/System/Library/Frameworks/Python.framework/Versions/2.7/lib/python2.7/ctypes/macholib/__init__.pyc'>,\n",
       " 'ctypes.macholib.dyld': <module 'ctypes.macholib.dyld' from '/System/Library/Frameworks/Python.framework/Versions/2.7/lib/python2.7/ctypes/macholib/dyld.pyc'>,\n",
       " 'ctypes.macholib.dylib': <module 'ctypes.macholib.dylib' from '/System/Library/Frameworks/Python.framework/Versions/2.7/lib/python2.7/ctypes/macholib/dylib.pyc'>,\n",
       " 'ctypes.macholib.framework': <module 'ctypes.macholib.framework' from '/System/Library/Frameworks/Python.framework/Versions/2.7/lib/python2.7/ctypes/macholib/framework.pyc'>,\n",
       " 'ctypes.macholib.itertools': None,\n",
       " 'ctypes.macholib.os': None,\n",
       " 'ctypes.macholib.re': None,\n",
       " 'ctypes.os': None,\n",
       " 'ctypes.struct': None,\n",
       " 'ctypes.sys': None,\n",
       " 'ctypes.util': <module 'ctypes.util' from '/System/Library/Frameworks/Python.framework/Versions/2.7/lib/python2.7/ctypes/util.pyc'>,\n",
       " 'curses': <module 'curses' from '/System/Library/Frameworks/Python.framework/Versions/2.7/lib/python2.7/curses/__init__.py'>,\n",
       " 'curses._curses': None,\n",
       " 'curses.curses': None,\n",
       " 'curses.os': None,\n",
       " 'curses.sys': None,\n",
       " 'curses.wrapper': <module 'curses.wrapper' from '/System/Library/Frameworks/Python.framework/Versions/2.7/lib/python2.7/curses/wrapper.py'>,\n",
       " 'datetime': <module 'datetime' from '/System/Library/Frameworks/Python.framework/Versions/2.7/lib/python2.7/lib-dynload/datetime.so'>,\n",
       " 'dis': <module 'dis' from '/System/Library/Frameworks/Python.framework/Versions/2.7/lib/python2.7/dis.py'>,\n",
       " 'distutils': <module 'distutils' from '/System/Library/Frameworks/Python.framework/Versions/2.7/lib/python2.7/distutils/__init__.pyc'>,\n",
       " 'distutils.re': None,\n",
       " 'distutils.string': None,\n",
       " 'distutils.types': None,\n",
       " 'distutils.version': <module 'distutils.version' from '/System/Library/Frameworks/Python.framework/Versions/2.7/lib/python2.7/distutils/version.pyc'>,\n",
       " 'encodings': <module 'encodings' from '/System/Library/Frameworks/Python.framework/Versions/2.7/lib/python2.7/encodings/__init__.pyc'>,\n",
       " 'encodings.__builtin__': None,\n",
       " 'encodings.aliases': <module 'encodings.aliases' from '/System/Library/Frameworks/Python.framework/Versions/2.7/lib/python2.7/encodings/aliases.pyc'>,\n",
       " 'encodings.ascii': <module 'encodings.ascii' from '/System/Library/Frameworks/Python.framework/Versions/2.7/lib/python2.7/encodings/ascii.pyc'>,\n",
       " 'encodings.binascii': None,\n",
       " 'encodings.codecs': None,\n",
       " 'encodings.encodings': None,\n",
       " 'encodings.hex_codec': <module 'encodings.hex_codec' from '/System/Library/Frameworks/Python.framework/Versions/2.7/lib/python2.7/encodings/hex_codec.pyc'>,\n",
       " 'encodings.utf_8': <module 'encodings.utf_8' from '/System/Library/Frameworks/Python.framework/Versions/2.7/lib/python2.7/encodings/utf_8.pyc'>,\n",
       " 'errno': <module 'errno' (built-in)>,\n",
       " 'exceptions': <module 'exceptions' (built-in)>,\n",
       " 'fcntl': <module 'fcntl' from '/System/Library/Frameworks/Python.framework/Versions/2.7/lib/python2.7/lib-dynload/fcntl.so'>,\n",
       " 'fnmatch': <module 'fnmatch' from '/System/Library/Frameworks/Python.framework/Versions/2.7/lib/python2.7/fnmatch.pyc'>,\n",
       " 'functools': <module 'functools' from '/System/Library/Frameworks/Python.framework/Versions/2.7/lib/python2.7/functools.pyc'>,\n",
       " 'gc': <module 'gc' (built-in)>,\n",
       " 'genericpath': <module 'genericpath' from '/System/Library/Frameworks/Python.framework/Versions/2.7/lib/python2.7/genericpath.pyc'>,\n",
       " 'getopt': <module 'getopt' from '/System/Library/Frameworks/Python.framework/Versions/2.7/lib/python2.7/getopt.pyc'>,\n",
       " 'getpass': <module 'getpass' from '/System/Library/Frameworks/Python.framework/Versions/2.7/lib/python2.7/getpass.pyc'>,\n",
       " 'gettext': <module 'gettext' from '/System/Library/Frameworks/Python.framework/Versions/2.7/lib/python2.7/gettext.pyc'>,\n",
       " 'glob': <module 'glob' from '/System/Library/Frameworks/Python.framework/Versions/2.7/lib/python2.7/glob.pyc'>,\n",
       " 'gnureadline': <module 'gnureadline' from '/Library/Python/2.7/site-packages/gnureadline.so'>,\n",
       " 'grp': <module 'grp' from '/System/Library/Frameworks/Python.framework/Versions/2.7/lib/python2.7/lib-dynload/grp.so'>,\n",
       " 'hashlib': <module 'hashlib' from '/System/Library/Frameworks/Python.framework/Versions/2.7/lib/python2.7/hashlib.pyc'>,\n",
       " 'heapq': <module 'heapq' from '/System/Library/Frameworks/Python.framework/Versions/2.7/lib/python2.7/heapq.pyc'>,\n",
       " 'hmac': <module 'hmac' from '/System/Library/Frameworks/Python.framework/Versions/2.7/lib/python2.7/hmac.pyc'>,\n",
       " 'htmlentitydefs': <module 'htmlentitydefs' from '/System/Library/Frameworks/Python.framework/Versions/2.7/lib/python2.7/htmlentitydefs.pyc'>,\n",
       " 'imp': <module 'imp' (built-in)>,\n",
       " 'importlib': <module 'importlib' from '/System/Library/Frameworks/Python.framework/Versions/2.7/lib/python2.7/importlib/__init__.py'>,\n",
       " 'importlib.sys': None,\n",
       " 'inspect': <module 'inspect' from '/System/Library/Frameworks/Python.framework/Versions/2.7/lib/python2.7/inspect.py'>,\n",
       " 'io': <module 'io' from '/System/Library/Frameworks/Python.framework/Versions/2.7/lib/python2.7/io.pyc'>,\n",
       " 'itertools': <module 'itertools' from '/System/Library/Frameworks/Python.framework/Versions/2.7/lib/python2.7/lib-dynload/itertools.so'>,\n",
       " 'json': <module 'json' from '/System/Library/Frameworks/Python.framework/Versions/2.7/lib/python2.7/json/__init__.pyc'>,\n",
       " 'json._json': None,\n",
       " 'json.decoder': <module 'json.decoder' from '/System/Library/Frameworks/Python.framework/Versions/2.7/lib/python2.7/json/decoder.pyc'>,\n",
       " 'json.encoder': <module 'json.encoder' from '/System/Library/Frameworks/Python.framework/Versions/2.7/lib/python2.7/json/encoder.pyc'>,\n",
       " 'json.json': None,\n",
       " 'json.re': None,\n",
       " 'json.scanner': <module 'json.scanner' from '/System/Library/Frameworks/Python.framework/Versions/2.7/lib/python2.7/json/scanner.pyc'>,\n",
       " 'json.struct': None,\n",
       " 'json.sys': None,\n",
       " 'keyword': <module 'keyword' from '/System/Library/Frameworks/Python.framework/Versions/2.7/lib/python2.7/keyword.pyc'>,\n",
       " 'linecache': <module 'linecache' from '/System/Library/Frameworks/Python.framework/Versions/2.7/lib/python2.7/linecache.pyc'>,\n",
       " 'locale': <module 'locale' from '/System/Library/Frameworks/Python.framework/Versions/2.7/lib/python2.7/locale.pyc'>,\n",
       " 'logging': <module 'logging' from '/System/Library/Frameworks/Python.framework/Versions/2.7/lib/python2.7/logging/__init__.pyc'>,\n",
       " 'logging.atexit': None,\n",
       " 'logging.cPickle': None,\n",
       " 'logging.cStringIO': None,\n",
       " 'logging.codecs': None,\n",
       " 'logging.collections': None,\n",
       " 'logging.errno': None,\n",
       " 'logging.handlers': <module 'logging.handlers' from '/System/Library/Frameworks/Python.framework/Versions/2.7/lib/python2.7/logging/handlers.pyc'>,\n",
       " 'logging.logging': None,\n",
       " 'logging.os': None,\n",
       " 'logging.re': None,\n",
       " 'logging.socket': None,\n",
       " 'logging.stat': None,\n",
       " 'logging.struct': None,\n",
       " 'logging.sys': None,\n",
       " 'logging.thread': None,\n",
       " 'logging.threading': None,\n",
       " 'logging.time': None,\n",
       " 'logging.traceback': None,\n",
       " 'logging.warnings': None,\n",
       " 'logging.weakref': None,\n",
       " 'marshal': <module 'marshal' (built-in)>,\n",
       " 'math': <module 'math' from '/System/Library/Frameworks/Python.framework/Versions/2.7/lib/python2.7/lib-dynload/math.so'>,\n",
       " 'mimetypes': <module 'mimetypes' from '/System/Library/Frameworks/Python.framework/Versions/2.7/lib/python2.7/mimetypes.pyc'>,\n",
       " 'mpl_toolkits': <module 'mpl_toolkits' (built-in)>,\n",
       " 'multiprocessing': <module 'multiprocessing' from '/System/Library/Frameworks/Python.framework/Versions/2.7/lib/python2.7/multiprocessing/__init__.py'>,\n",
       " 'multiprocessing._multiprocessing': None,\n",
       " 'multiprocessing.atexit': None,\n",
       " 'multiprocessing.itertools': None,\n",
       " 'multiprocessing.multiprocessing': None,\n",
       " 'multiprocessing.os': None,\n",
       " 'multiprocessing.process': <module 'multiprocessing.process' from '/System/Library/Frameworks/Python.framework/Versions/2.7/lib/python2.7/multiprocessing/process.pyc'>,\n",
       " 'multiprocessing.signal': None,\n",
       " 'multiprocessing.subprocess': None,\n",
       " 'multiprocessing.sys': None,\n",
       " 'multiprocessing.threading': None,\n",
       " 'multiprocessing.util': <module 'multiprocessing.util' from '/System/Library/Frameworks/Python.framework/Versions/2.7/lib/python2.7/multiprocessing/util.pyc'>,\n",
       " 'multiprocessing.weakref': None,\n",
       " 'numbers': <module 'numbers' from '/System/Library/Frameworks/Python.framework/Versions/2.7/lib/python2.7/numbers.py'>,\n",
       " 'opcode': <module 'opcode' from '/System/Library/Frameworks/Python.framework/Versions/2.7/lib/python2.7/opcode.py'>,\n",
       " 'operator': <module 'operator' from '/System/Library/Frameworks/Python.framework/Versions/2.7/lib/python2.7/lib-dynload/operator.so'>,\n",
       " 'os': <module 'os' from '/System/Library/Frameworks/Python.framework/Versions/2.7/lib/python2.7/os.pyc'>,\n",
       " 'os.path': <module 'posixpath' from '/System/Library/Frameworks/Python.framework/Versions/2.7/lib/python2.7/posixpath.pyc'>,\n",
       " 'pdb': <module 'pdb' from '/System/Library/Frameworks/Python.framework/Versions/2.7/lib/python2.7/pdb.py'>,\n",
       " 'pickle': <module 'pickle' from '/System/Library/Frameworks/Python.framework/Versions/2.7/lib/python2.7/pickle.pyc'>,\n",
       " 'pkgutil': <module 'pkgutil' from '/System/Library/Frameworks/Python.framework/Versions/2.7/lib/python2.7/pkgutil.pyc'>,\n",
       " 'platform': <module 'platform' from '/System/Library/Frameworks/Python.framework/Versions/2.7/lib/python2.7/platform.pyc'>,\n",
       " 'posix': <module 'posix' (built-in)>,\n",
       " 'posixpath': <module 'posixpath' from '/System/Library/Frameworks/Python.framework/Versions/2.7/lib/python2.7/posixpath.pyc'>,\n",
       " 'pprint': <module 'pprint' from '/System/Library/Frameworks/Python.framework/Versions/2.7/lib/python2.7/pprint.py'>,\n",
       " 'pstats': <module 'pstats' from '/System/Library/Frameworks/Python.framework/Versions/2.7/lib/python2.7/pstats.py'>,\n",
       " 'pty': <module 'pty' from '/System/Library/Frameworks/Python.framework/Versions/2.7/lib/python2.7/pty.py'>,\n",
       " 'pwd': <module 'pwd' (built-in)>,\n",
       " 'pydoc': <module 'pydoc' from '/System/Library/Frameworks/Python.framework/Versions/2.7/lib/python2.7/pydoc.pyc'>,\n",
       " 'random': <module 'random' from '/System/Library/Frameworks/Python.framework/Versions/2.7/lib/python2.7/random.pyc'>,\n",
       " 're': <module 're' from '/System/Library/Frameworks/Python.framework/Versions/2.7/lib/python2.7/re.pyc'>,\n",
       " 'repr': <module 'repr' from '/System/Library/Frameworks/Python.framework/Versions/2.7/lib/python2.7/repr.py'>,\n",
       " 'resource': <module 'resource' from '/System/Library/Frameworks/Python.framework/Versions/2.7/lib/python2.7/lib-dynload/resource.so'>,\n",
       " 'runpy': <module 'runpy' from '/System/Library/Frameworks/Python.framework/Versions/2.7/lib/python2.7/runpy.py'>,\n",
       " 'select': <module 'select' from '/System/Library/Frameworks/Python.framework/Versions/2.7/lib/python2.7/lib-dynload/select.so'>,\n",
       " 'shlex': <module 'shlex' from '/System/Library/Frameworks/Python.framework/Versions/2.7/lib/python2.7/shlex.pyc'>,\n",
       " 'shutil': <module 'shutil' from '/System/Library/Frameworks/Python.framework/Versions/2.7/lib/python2.7/shutil.pyc'>,\n",
       " 'signal': <module 'signal' (built-in)>,\n",
       " 'site': <module 'site' from '/System/Library/Frameworks/Python.framework/Versions/2.7/lib/python2.7/site.pyc'>,\n",
       " 'socket': <module 'socket' from '/System/Library/Frameworks/Python.framework/Versions/2.7/lib/python2.7/socket.pyc'>,\n",
       " 'sqlite3': <module 'sqlite3' from '/System/Library/Frameworks/Python.framework/Versions/2.7/lib/python2.7/sqlite3/__init__.py'>,\n",
       " 'sqlite3._sqlite3': None,\n",
       " 'sqlite3.collections': None,\n",
       " 'sqlite3.datetime': None,\n",
       " 'sqlite3.dbapi2': <module 'sqlite3.dbapi2' from '/System/Library/Frameworks/Python.framework/Versions/2.7/lib/python2.7/sqlite3/dbapi2.pyc'>,\n",
       " 'sqlite3.time': None,\n",
       " 'sre_compile': <module 'sre_compile' from '/System/Library/Frameworks/Python.framework/Versions/2.7/lib/python2.7/sre_compile.pyc'>,\n",
       " 'sre_constants': <module 'sre_constants' from '/System/Library/Frameworks/Python.framework/Versions/2.7/lib/python2.7/sre_constants.pyc'>,\n",
       " 'sre_parse': <module 'sre_parse' from '/System/Library/Frameworks/Python.framework/Versions/2.7/lib/python2.7/sre_parse.pyc'>,\n",
       " 'ssl': <module 'ssl' from '/System/Library/Frameworks/Python.framework/Versions/2.7/lib/python2.7/ssl.pyc'>,\n",
       " 'stat': <module 'stat' from '/System/Library/Frameworks/Python.framework/Versions/2.7/lib/python2.7/stat.pyc'>,\n",
       " 'storemagic': <module 'storemagic' from '/Library/Python/2.7/site-packages/IPython/extensions/storemagic.pyc'>,\n",
       " 'string': <module 'string' from '/System/Library/Frameworks/Python.framework/Versions/2.7/lib/python2.7/string.pyc'>,\n",
       " 'strop': <module 'strop' from '/System/Library/Frameworks/Python.framework/Versions/2.7/lib/python2.7/lib-dynload/strop.so'>,\n",
       " 'struct': <module 'struct' from '/System/Library/Frameworks/Python.framework/Versions/2.7/lib/python2.7/struct.pyc'>,\n",
       " 'subprocess': <module 'subprocess' from '/System/Library/Frameworks/Python.framework/Versions/2.7/lib/python2.7/subprocess.pyc'>,\n",
       " 'sys': <module 'sys' (built-in)>,\n",
       " 'sysconfig': <module 'sysconfig' from '/System/Library/Frameworks/Python.framework/Versions/2.7/lib/python2.7/sysconfig.pyc'>,\n",
       " 'tarfile': <module 'tarfile' from '/System/Library/Frameworks/Python.framework/Versions/2.7/lib/python2.7/tarfile.pyc'>,\n",
       " 'tempfile': <module 'tempfile' from '/System/Library/Frameworks/Python.framework/Versions/2.7/lib/python2.7/tempfile.pyc'>,\n",
       " 'termios': <module 'termios' from '/System/Library/Frameworks/Python.framework/Versions/2.7/lib/python2.7/lib-dynload/termios.so'>,\n",
       " 'textwrap': <module 'textwrap' from '/System/Library/Frameworks/Python.framework/Versions/2.7/lib/python2.7/textwrap.pyc'>,\n",
       " 'thread': <module 'thread' (built-in)>,\n",
       " 'threading': <module 'threading' from '/System/Library/Frameworks/Python.framework/Versions/2.7/lib/python2.7/threading.pyc'>,\n",
       " 'time': <module 'time' from '/System/Library/Frameworks/Python.framework/Versions/2.7/lib/python2.7/lib-dynload/time.so'>,\n",
       " 'timeit': <module 'timeit' from '/System/Library/Frameworks/Python.framework/Versions/2.7/lib/python2.7/timeit.pyc'>,\n",
       " 'token': <module 'token' from '/System/Library/Frameworks/Python.framework/Versions/2.7/lib/python2.7/token.pyc'>,\n",
       " 'tokenize': <module 'tokenize' from '/System/Library/Frameworks/Python.framework/Versions/2.7/lib/python2.7/tokenize.pyc'>,\n",
       " 'tornado': <module 'tornado' from '/Library/Python/2.7/site-packages/tornado/__init__.pyc'>,\n",
       " 'tornado.concurrent': <module 'tornado.concurrent' from '/Library/Python/2.7/site-packages/tornado/concurrent.pyc'>,\n",
       " 'tornado.escape': <module 'tornado.escape' from '/Library/Python/2.7/site-packages/tornado/escape.pyc'>,\n",
       " 'tornado.ioloop': <module 'tornado.ioloop' from '/Library/Python/2.7/site-packages/tornado/ioloop.pyc'>,\n",
       " 'tornado.log': <module 'tornado.log' from '/Library/Python/2.7/site-packages/tornado/log.pyc'>,\n",
       " 'tornado.platform': <module 'tornado.platform' from '/Library/Python/2.7/site-packages/tornado/platform/__init__.pyc'>,\n",
       " 'tornado.platform.auto': <module 'tornado.platform.auto' from '/Library/Python/2.7/site-packages/tornado/platform/auto.pyc'>,\n",
       " 'tornado.platform.interface': <module 'tornado.platform.interface' from '/Library/Python/2.7/site-packages/tornado/platform/interface.pyc'>,\n",
       " 'tornado.platform.posix': <module 'tornado.platform.posix' from '/Library/Python/2.7/site-packages/tornado/platform/posix.pyc'>,\n",
       " 'tornado.speedups': <module 'tornado.speedups' from '/Library/Python/2.7/site-packages/tornado/speedups.so'>,\n",
       " 'tornado.stack_context': <module 'tornado.stack_context' from '/Library/Python/2.7/site-packages/tornado/stack_context.pyc'>,\n",
       " 'tornado.util': <module 'tornado.util' from '/Library/Python/2.7/site-packages/tornado/util.pyc'>,\n",
       " 'traceback': <module 'traceback' from '/System/Library/Frameworks/Python.framework/Versions/2.7/lib/python2.7/traceback.pyc'>,\n",
       " 'tty': <module 'tty' from '/System/Library/Frameworks/Python.framework/Versions/2.7/lib/python2.7/tty.py'>,\n",
       " 'types': <module 'types' from '/System/Library/Frameworks/Python.framework/Versions/2.7/lib/python2.7/types.pyc'>,\n",
       " 'urllib': <module 'urllib' from '/System/Library/Frameworks/Python.framework/Versions/2.7/lib/python2.7/urllib.pyc'>,\n",
       " 'urlparse': <module 'urlparse' from '/System/Library/Frameworks/Python.framework/Versions/2.7/lib/python2.7/urlparse.pyc'>,\n",
       " 'uuid': <module 'uuid' from '/System/Library/Frameworks/Python.framework/Versions/2.7/lib/python2.7/uuid.pyc'>,\n",
       " 'warnings': <module 'warnings' from '/System/Library/Frameworks/Python.framework/Versions/2.7/lib/python2.7/warnings.pyc'>,\n",
       " 'weakref': <module 'weakref' from '/System/Library/Frameworks/Python.framework/Versions/2.7/lib/python2.7/weakref.pyc'>,\n",
       " 'zipfile': <module 'zipfile' from '/System/Library/Frameworks/Python.framework/Versions/2.7/lib/python2.7/zipfile.pyc'>,\n",
       " 'zipimport': <module 'zipimport' (built-in)>,\n",
       " 'zlib': <module 'zlib' from '/System/Library/Frameworks/Python.framework/Versions/2.7/lib/python2.7/lib-dynload/zlib.so'>,\n",
       " 'zmq': <module 'zmq' from '/Library/Python/2.7/site-packages/zmq/__init__.pyc'>,\n",
       " 'zmq.backend': <module 'zmq.backend' from '/Library/Python/2.7/site-packages/zmq/backend/__init__.pyc'>,\n",
       " 'zmq.backend.cython': <module 'zmq.backend.cython' from '/Library/Python/2.7/site-packages/zmq/backend/cython/__init__.pyc'>,\n",
       " 'zmq.backend.cython._device': <module 'zmq.backend.cython._device' from '/Library/Python/2.7/site-packages/zmq/backend/cython/_device.so'>,\n",
       " 'zmq.backend.cython._poll': <module 'zmq.backend.cython._poll' from '/Library/Python/2.7/site-packages/zmq/backend/cython/_poll.so'>,\n",
       " 'zmq.backend.cython._version': <module 'zmq.backend.cython._version' from '/Library/Python/2.7/site-packages/zmq/backend/cython/_version.so'>,\n",
       " 'zmq.backend.cython.cPickle': None,\n",
       " 'zmq.backend.cython.codecs': None,\n",
       " 'zmq.backend.cython.constants': <module 'zmq.backend.cython.constants' from '/Library/Python/2.7/site-packages/zmq/backend/cython/constants.so'>,\n",
       " 'zmq.backend.cython.context': <module 'zmq.backend.cython.context' from '/Library/Python/2.7/site-packages/zmq/backend/cython/context.so'>,\n",
       " 'zmq.backend.cython.copy': None,\n",
       " 'zmq.backend.cython.error': <module 'zmq.backend.cython.error' from '/Library/Python/2.7/site-packages/zmq/backend/cython/error.so'>,\n",
       " 'zmq.backend.cython.message': <module 'zmq.backend.cython.message' from '/Library/Python/2.7/site-packages/zmq/backend/cython/message.so'>,\n",
       " 'zmq.backend.cython.random': None,\n",
       " 'zmq.backend.cython.socket': <module 'zmq.backend.cython.socket' from '/Library/Python/2.7/site-packages/zmq/backend/cython/socket.so'>,\n",
       " 'zmq.backend.cython.struct': None,\n",
       " 'zmq.backend.cython.sys': None,\n",
       " 'zmq.backend.cython.threading': None,\n",
       " 'zmq.backend.cython.time': None,\n",
       " 'zmq.backend.cython.utils': <module 'zmq.backend.cython.utils' from '/Library/Python/2.7/site-packages/zmq/backend/cython/utils.so'>,\n",
       " 'zmq.backend.cython.zmq': None,\n",
       " 'zmq.backend.os': None,\n",
       " 'zmq.backend.platform': None,\n",
       " 'zmq.backend.select': <module 'zmq.backend.select' from '/Library/Python/2.7/site-packages/zmq/backend/select.pyc'>,\n",
       " 'zmq.backend.sys': None,\n",
       " 'zmq.backend.zmq': None,\n",
       " 'zmq.ctypes': None,\n",
       " 'zmq.devices': <module 'zmq.devices' from '/Library/Python/2.7/site-packages/zmq/devices/__init__.pyc'>,\n",
       " 'zmq.devices.basedevice': <module 'zmq.devices.basedevice' from '/Library/Python/2.7/site-packages/zmq/devices/basedevice.pyc'>,\n",
       " 'zmq.devices.monitoredqueue': <module 'zmq.devices.monitoredqueue' from '/Library/Python/2.7/site-packages/zmq/devices/monitoredqueue.so'>,\n",
       " 'zmq.devices.monitoredqueuedevice': <module 'zmq.devices.monitoredqueuedevice' from '/Library/Python/2.7/site-packages/zmq/devices/monitoredqueuedevice.pyc'>,\n",
       " 'zmq.devices.multiprocessing': None,\n",
       " 'zmq.devices.proxydevice': <module 'zmq.devices.proxydevice' from '/Library/Python/2.7/site-packages/zmq/devices/proxydevice.pyc'>,\n",
       " 'zmq.devices.threading': None,\n",
       " 'zmq.devices.time': None,\n",
       " 'zmq.devices.zmq': None,\n",
       " 'zmq.error': <module 'zmq.error' from '/Library/Python/2.7/site-packages/zmq/error.pyc'>,\n",
       " 'zmq.eventloop': <module 'zmq.eventloop' from '/Library/Python/2.7/site-packages/zmq/eventloop/__init__.pyc'>,\n",
       " 'zmq.eventloop.Queue': None,\n",
       " 'zmq.eventloop.__future__': None,\n",
       " 'zmq.eventloop.cPickle': None,\n",
       " 'zmq.eventloop.ioloop': <module 'zmq.eventloop.ioloop' from '/Library/Python/2.7/site-packages/zmq/eventloop/ioloop.pyc'>,\n",
       " 'zmq.eventloop.sys': None,\n",
       " 'zmq.eventloop.tornado': None,\n",
       " 'zmq.eventloop.zmq': None,\n",
       " 'zmq.eventloop.zmqstream': <module 'zmq.eventloop.zmqstream' from '/Library/Python/2.7/site-packages/zmq/eventloop/zmqstream.pyc'>,\n",
       " 'zmq.glob': None,\n",
       " 'zmq.os': None,\n",
       " 'zmq.sugar': <module 'zmq.sugar' from '/Library/Python/2.7/site-packages/zmq/sugar/__init__.pyc'>,\n",
       " 'zmq.sugar.atexit': None,\n",
       " 'zmq.sugar.attrsettr': <module 'zmq.sugar.attrsettr' from '/Library/Python/2.7/site-packages/zmq/sugar/attrsettr.pyc'>,\n",
       " 'zmq.sugar.cPickle': None,\n",
       " 'zmq.sugar.codecs': None,\n",
       " 'zmq.sugar.constants': <module 'zmq.sugar.constants' from '/Library/Python/2.7/site-packages/zmq/sugar/constants.pyc'>,\n",
       " 'zmq.sugar.context': <module 'zmq.sugar.context' from '/Library/Python/2.7/site-packages/zmq/sugar/context.pyc'>,\n",
       " 'zmq.sugar.frame': <module 'zmq.sugar.frame' from '/Library/Python/2.7/site-packages/zmq/sugar/frame.pyc'>,\n",
       " 'zmq.sugar.poll': <module 'zmq.sugar.poll' from '/Library/Python/2.7/site-packages/zmq/sugar/poll.pyc'>,\n",
       " 'zmq.sugar.random': None,\n",
       " 'zmq.sugar.socket': <module 'zmq.sugar.socket' from '/Library/Python/2.7/site-packages/zmq/sugar/socket.pyc'>,\n",
       " 'zmq.sugar.threading': None,\n",
       " 'zmq.sugar.time': None,\n",
       " 'zmq.sugar.tracker': <module 'zmq.sugar.tracker' from '/Library/Python/2.7/site-packages/zmq/sugar/tracker.pyc'>,\n",
       " 'zmq.sugar.version': <module 'zmq.sugar.version' from '/Library/Python/2.7/site-packages/zmq/sugar/version.pyc'>,\n",
       " 'zmq.sugar.warnings': None,\n",
       " 'zmq.sugar.weakref': None,\n",
       " 'zmq.sugar.zmq': None,\n",
       " 'zmq.sys': None,\n",
       " 'zmq.utils': <module 'zmq.utils' from '/Library/Python/2.7/site-packages/zmq/utils/__init__.pyc'>,\n",
       " 'zmq.utils.constant_names': <module 'zmq.utils.constant_names' from '/Library/Python/2.7/site-packages/zmq/utils/constant_names.pyc'>,\n",
       " 'zmq.utils.interop': <module 'zmq.utils.interop' from '/Library/Python/2.7/site-packages/zmq/utils/interop.pyc'>,\n",
       " 'zmq.utils.itertools': None,\n",
       " 'zmq.utils.jsonapi': <module 'zmq.utils.jsonapi' from '/Library/Python/2.7/site-packages/zmq/utils/jsonapi.pyc'>,\n",
       " 'zmq.utils.sixcerpt': <module 'zmq.utils.sixcerpt' from '/Library/Python/2.7/site-packages/zmq/utils/sixcerpt.pyc'>,\n",
       " 'zmq.utils.strtypes': <module 'zmq.utils.strtypes' from '/Library/Python/2.7/site-packages/zmq/utils/strtypes.pyc'>,\n",
       " 'zmq.utils.sys': None,\n",
       " 'zmq.utils.zmq': None,\n",
       " 'zmq.zmq': None}"
      ]
     },
     "execution_count": 2,
     "metadata": {},
     "output_type": "execute_result"
    }
   ],
   "source": [
    "sys.modules"
   ]
  },
  {
   "cell_type": "code",
   "execution_count": 5,
   "metadata": {
    "collapsed": true
   },
   "outputs": [],
   "source": [
    "import numpy"
   ]
  },
  {
   "cell_type": "code",
   "execution_count": 5,
   "metadata": {
    "collapsed": true
   },
   "outputs": [],
   "source": [
    "import pandas as pd"
   ]
  },
  {
   "cell_type": "code",
   "execution_count": 11,
   "metadata": {
    "collapsed": false
   },
   "outputs": [
    {
     "ename": "ImportError",
     "evalue": "No module named ggg",
     "output_type": "error",
     "traceback": [
      "\u001b[0;31m---------------------------------------------------------------------------\u001b[0m",
      "\u001b[0;31mImportError\u001b[0m                               Traceback (most recent call last)",
      "\u001b[0;32m<ipython-input-11-baae0725cd09>\u001b[0m in \u001b[0;36m<module>\u001b[0;34m()\u001b[0m\n\u001b[0;32m----> 1\u001b[0;31m \u001b[0mnumpy\u001b[0m \u001b[0;34m=\u001b[0m \u001b[0m__import__\u001b[0m\u001b[0;34m(\u001b[0m\u001b[0;34m'ggg'\u001b[0m\u001b[0;34m)\u001b[0m\u001b[0;34m\u001b[0m\u001b[0m\n\u001b[0m",
      "\u001b[0;31mImportError\u001b[0m: No module named ggg"
     ]
    }
   ],
   "source": [
    "numpy = __import__('ggg')"
   ]
  },
  {
   "cell_type": "code",
   "execution_count": 13,
   "metadata": {
    "collapsed": false
   },
   "outputs": [
    {
     "data": {
      "text/plain": [
       "DataProcessing.rakuten"
      ]
     },
     "execution_count": 13,
     "metadata": {},
     "output_type": "execute_result"
    }
   ],
   "source": [
    "dp.rakuten"
   ]
  },
  {
   "cell_type": "code",
   "execution_count": 7,
   "metadata": {
    "collapsed": false
   },
   "outputs": [
    {
     "data": {
      "text/plain": [
       "<module 'numpy' from '/Library/Python/2.7/site-packages/numpy/__init__.pyc'>"
      ]
     },
     "execution_count": 7,
     "metadata": {},
     "output_type": "execute_result"
    }
   ],
   "source": [
    "numpy_gg"
   ]
  },
  {
   "cell_type": "code",
   "execution_count": 1,
   "metadata": {
    "collapsed": true
   },
   "outputs": [],
   "source": [
    "# 2.0 The below is about metaclass"
   ]
  },
  {
   "cell_type": "code",
   "execution_count": 2,
   "metadata": {
    "collapsed": true
   },
   "outputs": [],
   "source": [
    "import numpy as np"
   ]
  },
  {
   "cell_type": "code",
   "execution_count": 3,
   "metadata": {
    "collapsed": true
   },
   "outputs": [],
   "source": [
    "arr = np.array([1,2,3,4])"
   ]
  },
  {
   "cell_type": "code",
   "execution_count": 5,
   "metadata": {
    "collapsed": false
   },
   "outputs": [],
   "source": [
    "import DataProcessing as dp"
   ]
  },
  {
   "cell_type": "code",
   "execution_count": 10,
   "metadata": {
    "collapsed": true
   },
   "outputs": [],
   "source": [
    "viki = dp.rakuten()"
   ]
  },
  {
   "cell_type": "code",
   "execution_count": 11,
   "metadata": {
    "collapsed": false
   },
   "outputs": [
    {
     "data": {
      "text/plain": [
       "<DataProcessing.rakuten at 0x107ec5910>"
      ]
     },
     "execution_count": 11,
     "metadata": {},
     "output_type": "execute_result"
    }
   ],
   "source": [
    "viki"
   ]
  },
  {
   "cell_type": "code",
   "execution_count": 16,
   "metadata": {
    "collapsed": false
   },
   "outputs": [
    {
     "name": "stdout",
     "output_type": "stream",
     "text": [
      "<class 'DataProcessing.rakuten'>\n"
     ]
    }
   ],
   "source": [
    "print dp.rakuten"
   ]
  },
  {
   "cell_type": "code",
   "execution_count": 21,
   "metadata": {
    "collapsed": false
   },
   "outputs": [
    {
     "name": "stdout",
     "output_type": "stream",
     "text": [
      "<class 'DataProcessing.rakuten'>\n"
     ]
    }
   ],
   "source": [
    "print viki.__class__"
   ]
  },
  {
   "cell_type": "code",
   "execution_count": 1,
   "metadata": {
    "collapsed": true
   },
   "outputs": [],
   "source": [
    "# 2.1 The following will repeat the examle in http://stackoverflow.com/questions/100003/what-is-a-metaclass-in-python"
   ]
  },
  {
   "cell_type": "code",
   "execution_count": 21,
   "metadata": {
    "collapsed": true
   },
   "outputs": [],
   "source": [
    "def meta_class_upper(class_name, parent_class, attribute_dict):\n",
    "    attribute_dict_new = {}\n",
    "    for key, value in attribute_dict.items():\n",
    "        if key.startswith('_'):\n",
    "            attribute_dict_new[key] = value\n",
    "        else:\n",
    "            attribute_dict_new[key.upper()] = value\n",
    "    return type(class_name, parent_class, attribute_dict_new)"
   ]
  },
  {
   "cell_type": "code",
   "execution_count": 22,
   "metadata": {
    "collapsed": true
   },
   "outputs": [],
   "source": [
    "__metaclass__ = meta_class_upper"
   ]
  },
  {
   "cell_type": "code",
   "execution_count": 30,
   "metadata": {
    "collapsed": false
   },
   "outputs": [],
   "source": [
    "class Foo(object):\n",
    "    __metaclass__ = meta_class_upper\n",
    "    bar = 'abc'"
   ]
  },
  {
   "cell_type": "code",
   "execution_count": 31,
   "metadata": {
    "collapsed": false
   },
   "outputs": [
    {
     "name": "stdout",
     "output_type": "stream",
     "text": [
      "True\n"
     ]
    }
   ],
   "source": [
    "print hasattr(Foo, 'BAR')"
   ]
  },
  {
   "cell_type": "code",
   "execution_count": 33,
   "metadata": {
    "collapsed": false
   },
   "outputs": [],
   "source": [
    "foo = Foo()"
   ]
  },
  {
   "cell_type": "code",
   "execution_count": 50,
   "metadata": {
    "collapsed": false
   },
   "outputs": [
    {
     "data": {
      "text/plain": [
       "'abc'"
      ]
     },
     "execution_count": 50,
     "metadata": {},
     "output_type": "execute_result"
    }
   ],
   "source": [
    "foo.BAR"
   ]
  },
  {
   "cell_type": "code",
   "execution_count": 63,
   "metadata": {
    "collapsed": false
   },
   "outputs": [],
   "source": [
    "Fx = meta_class_upper('Fooxx', (object,), {'bar':'abc'})"
   ]
  },
  {
   "cell_type": "code",
   "execution_count": 65,
   "metadata": {
    "collapsed": false
   },
   "outputs": [
    {
     "data": {
      "text/plain": [
       "['BAR',\n",
       " '__class__',\n",
       " '__delattr__',\n",
       " '__dict__',\n",
       " '__doc__',\n",
       " '__format__',\n",
       " '__getattribute__',\n",
       " '__hash__',\n",
       " '__init__',\n",
       " '__module__',\n",
       " '__new__',\n",
       " '__reduce__',\n",
       " '__reduce_ex__',\n",
       " '__repr__',\n",
       " '__setattr__',\n",
       " '__sizeof__',\n",
       " '__str__',\n",
       " '__subclasshook__',\n",
       " '__weakref__']"
      ]
     },
     "execution_count": 65,
     "metadata": {},
     "output_type": "execute_result"
    }
   ],
   "source": [
    "dir(Fx)"
   ]
  },
  {
   "cell_type": "code",
   "execution_count": 2,
   "metadata": {
    "collapsed": false
   },
   "outputs": [
    {
     "data": {
      "text/plain": [
       "['__add__',\n",
       " '__class__',\n",
       " '__contains__',\n",
       " '__delattr__',\n",
       " '__doc__',\n",
       " '__eq__',\n",
       " '__format__',\n",
       " '__ge__',\n",
       " '__getattribute__',\n",
       " '__getitem__',\n",
       " '__getnewargs__',\n",
       " '__getslice__',\n",
       " '__gt__',\n",
       " '__hash__',\n",
       " '__init__',\n",
       " '__le__',\n",
       " '__len__',\n",
       " '__lt__',\n",
       " '__mod__',\n",
       " '__mul__',\n",
       " '__ne__',\n",
       " '__new__',\n",
       " '__reduce__',\n",
       " '__reduce_ex__',\n",
       " '__repr__',\n",
       " '__rmod__',\n",
       " '__rmul__',\n",
       " '__setattr__',\n",
       " '__sizeof__',\n",
       " '__str__',\n",
       " '__subclasshook__',\n",
       " '_formatter_field_name_split',\n",
       " '_formatter_parser',\n",
       " 'capitalize',\n",
       " 'center',\n",
       " 'count',\n",
       " 'decode',\n",
       " 'encode',\n",
       " 'endswith',\n",
       " 'expandtabs',\n",
       " 'find',\n",
       " 'format',\n",
       " 'index',\n",
       " 'isalnum',\n",
       " 'isalpha',\n",
       " 'isdigit',\n",
       " 'islower',\n",
       " 'isspace',\n",
       " 'istitle',\n",
       " 'isupper',\n",
       " 'join',\n",
       " 'ljust',\n",
       " 'lower',\n",
       " 'lstrip',\n",
       " 'partition',\n",
       " 'replace',\n",
       " 'rfind',\n",
       " 'rindex',\n",
       " 'rjust',\n",
       " 'rpartition',\n",
       " 'rsplit',\n",
       " 'rstrip',\n",
       " 'split',\n",
       " 'splitlines',\n",
       " 'startswith',\n",
       " 'strip',\n",
       " 'swapcase',\n",
       " 'title',\n",
       " 'translate',\n",
       " 'upper',\n",
       " 'zfill']"
      ]
     },
     "execution_count": 2,
     "metadata": {},
     "output_type": "execute_result"
    }
   ],
   "source": [
    "dir(str)"
   ]
  },
  {
   "cell_type": "code",
   "execution_count": 4,
   "metadata": {
    "collapsed": false
   },
   "outputs": [
    {
     "data": {
      "text/plain": [
       "'ABC'"
      ]
     },
     "execution_count": 4,
     "metadata": {},
     "output_type": "execute_result"
    }
   ],
   "source": [
    "'abc'.upper()"
   ]
  },
  {
   "cell_type": "code",
   "execution_count": 1,
   "metadata": {
    "collapsed": true
   },
   "outputs": [],
   "source": [
    "a=1\n",
    "b=4\n",
    "tuple_1 = (a,b)"
   ]
  },
  {
   "cell_type": "code",
   "execution_count": 2,
   "metadata": {
    "collapsed": false
   },
   "outputs": [
    {
     "name": "stdout",
     "output_type": "stream",
     "text": [
      "(1, 4)\n"
     ]
    }
   ],
   "source": [
    "print tuple_1"
   ]
  },
  {
   "cell_type": "code",
   "execution_count": 3,
   "metadata": {
    "collapsed": true
   },
   "outputs": [],
   "source": [
    "a=3"
   ]
  },
  {
   "cell_type": "code",
   "execution_count": 4,
   "metadata": {
    "collapsed": false
   },
   "outputs": [
    {
     "name": "stdout",
     "output_type": "stream",
     "text": [
      "(1, 4)\n"
     ]
    }
   ],
   "source": [
    "print tuple_1"
   ]
  },
  {
   "cell_type": "code",
   "execution_count": 5,
   "metadata": {
    "collapsed": false
   },
   "outputs": [
    {
     "data": {
      "text/plain": [
       "3"
      ]
     },
     "execution_count": 5,
     "metadata": {},
     "output_type": "execute_result"
    }
   ],
   "source": [
    "a"
   ]
  },
  {
   "cell_type": "code",
   "execution_count": 6,
   "metadata": {
    "collapsed": true
   },
   "outputs": [],
   "source": [
    "a=[1,2]\n",
    "b=[3,4]\n",
    "tuple_2 = (a, b)"
   ]
  },
  {
   "cell_type": "code",
   "execution_count": 7,
   "metadata": {
    "collapsed": false
   },
   "outputs": [
    {
     "name": "stdout",
     "output_type": "stream",
     "text": [
      "([1, 2], [3, 4])\n"
     ]
    }
   ],
   "source": [
    "print tuple_2"
   ]
  },
  {
   "cell_type": "code",
   "execution_count": 8,
   "metadata": {
    "collapsed": true
   },
   "outputs": [],
   "source": [
    "a.append(9)"
   ]
  },
  {
   "cell_type": "code",
   "execution_count": 10,
   "metadata": {
    "collapsed": false
   },
   "outputs": [
    {
     "name": "stdout",
     "output_type": "stream",
     "text": [
      "([1, 2, 9], [3, 4])\n"
     ]
    }
   ],
   "source": [
    "print tuple_2"
   ]
  },
  {
   "cell_type": "code",
   "execution_count": 11,
   "metadata": {
    "collapsed": false
   },
   "outputs": [
    {
     "data": {
      "text/plain": [
       "4514289712"
      ]
     },
     "execution_count": 11,
     "metadata": {},
     "output_type": "execute_result"
    }
   ],
   "source": [
    "id(a)"
   ]
  },
  {
   "cell_type": "code",
   "execution_count": 12,
   "metadata": {
    "collapsed": false
   },
   "outputs": [
    {
     "data": {
      "text/plain": [
       "4514290432"
      ]
     },
     "execution_count": 12,
     "metadata": {},
     "output_type": "execute_result"
    }
   ],
   "source": [
    "id(b)"
   ]
  },
  {
   "cell_type": "code",
   "execution_count": 13,
   "metadata": {
    "collapsed": false
   },
   "outputs": [
    {
     "data": {
      "text/plain": [
       "4505934880"
      ]
     },
     "execution_count": 13,
     "metadata": {},
     "output_type": "execute_result"
    }
   ],
   "source": [
    "id(tuple_2)"
   ]
  },
  {
   "cell_type": "code",
   "execution_count": 17,
   "metadata": {
    "collapsed": false
   },
   "outputs": [
    {
     "data": {
      "text/plain": [
       "140429337068960"
      ]
     },
     "execution_count": 17,
     "metadata": {},
     "output_type": "execute_result"
    }
   ],
   "source": [
    "id(2)"
   ]
  },
  {
   "cell_type": "code",
   "execution_count": 19,
   "metadata": {
    "collapsed": false
   },
   "outputs": [
    {
     "ename": "SyntaxError",
     "evalue": "invalid syntax (<ipython-input-19-8ccf37439b06>, line 1)",
     "output_type": "error",
     "traceback": [
      "\u001b[0;36m  File \u001b[0;32m\"<ipython-input-19-8ccf37439b06>\"\u001b[0;36m, line \u001b[0;32m1\u001b[0m\n\u001b[0;31m    &a = 140429337068960\u001b[0m\n\u001b[0m    ^\u001b[0m\n\u001b[0;31mSyntaxError\u001b[0m\u001b[0;31m:\u001b[0m invalid syntax\n"
     ]
    }
   ],
   "source": [
    "a = 140429337068960"
   ]
  },
  {
   "cell_type": "code",
   "execution_count": 1,
   "metadata": {
    "collapsed": true
   },
   "outputs": [],
   "source": [
    "# The following is to test bitwise operator in Python"
   ]
  },
  {
   "cell_type": "code",
   "execution_count": 31,
   "metadata": {
    "collapsed": false
   },
   "outputs": [
    {
     "data": {
      "text/plain": [
       "6"
      ]
     },
     "execution_count": 31,
     "metadata": {},
     "output_type": "execute_result"
    }
   ],
   "source": [
    "3 << 1"
   ]
  },
  {
   "cell_type": "code",
   "execution_count": 14,
   "metadata": {
    "collapsed": false
   },
   "outputs": [
    {
     "data": {
      "text/plain": [
       "12"
      ]
     },
     "execution_count": 14,
     "metadata": {},
     "output_type": "execute_result"
    }
   ],
   "source": [
    "9^5"
   ]
  },
  {
   "cell_type": "code",
   "execution_count": 2,
   "metadata": {
    "collapsed": true
   },
   "outputs": [],
   "source": [
    "# The following is to test knowledge in https://docs.python.org/2/reference/datamodel.html"
   ]
  },
  {
   "cell_type": "code",
   "execution_count": 16,
   "metadata": {
    "collapsed": false
   },
   "outputs": [
    {
     "name": "stdout",
     "output_type": "stream",
     "text": [
      "<type 'builtin_function_or_method'>\n"
     ]
    }
   ],
   "source": [
    "print type(len)"
   ]
  },
  {
   "cell_type": "code",
   "execution_count": 17,
   "metadata": {
    "collapsed": false
   },
   "outputs": [
    {
     "data": {
      "text/plain": [
       "builtin_function_or_method"
      ]
     },
     "execution_count": 17,
     "metadata": {},
     "output_type": "execute_result"
    }
   ],
   "source": [
    "len.__class__"
   ]
  },
  {
   "cell_type": "code",
   "execution_count": 27,
   "metadata": {
    "collapsed": false
   },
   "outputs": [
    {
     "data": {
      "text/plain": [
       "'\\x08'"
      ]
     },
     "execution_count": 27,
     "metadata": {},
     "output_type": "execute_result"
    }
   ],
   "source": [
    "chr(8)"
   ]
  },
  {
   "cell_type": "code",
   "execution_count": 20,
   "metadata": {
    "collapsed": false
   },
   "outputs": [
    {
     "data": {
      "text/plain": [
       "48"
      ]
     },
     "execution_count": 20,
     "metadata": {},
     "output_type": "execute_result"
    }
   ],
   "source": [
    "ord('0')"
   ]
  },
  {
   "cell_type": "code",
   "execution_count": 3,
   "metadata": {
    "collapsed": true
   },
   "outputs": [],
   "source": [
    "lst = [1,2,3,'5','ty']"
   ]
  },
  {
   "cell_type": "code",
   "execution_count": 4,
   "metadata": {
    "collapsed": false
   },
   "outputs": [
    {
     "data": {
      "text/plain": [
       "[2, 3]"
      ]
     },
     "execution_count": 4,
     "metadata": {},
     "output_type": "execute_result"
    }
   ],
   "source": [
    "lst[1:3]"
   ]
  },
  {
   "cell_type": "code",
   "execution_count": 5,
   "metadata": {
    "collapsed": true
   },
   "outputs": [],
   "source": [
    "del lst[1:3]"
   ]
  },
  {
   "cell_type": "code",
   "execution_count": 6,
   "metadata": {
    "collapsed": false
   },
   "outputs": [
    {
     "data": {
      "text/plain": [
       "[1, '5', 'ty']"
      ]
     },
     "execution_count": 6,
     "metadata": {},
     "output_type": "execute_result"
    }
   ],
   "source": [
    "lst"
   ]
  },
  {
   "cell_type": "code",
   "execution_count": 7,
   "metadata": {
    "collapsed": true
   },
   "outputs": [],
   "source": [
    "lst = list('ty'*4)"
   ]
  },
  {
   "cell_type": "code",
   "execution_count": 8,
   "metadata": {
    "collapsed": false
   },
   "outputs": [
    {
     "data": {
      "text/plain": [
       "['t', 'y', 't', 'y', 't', 'y', 't', 'y']"
      ]
     },
     "execution_count": 8,
     "metadata": {},
     "output_type": "execute_result"
    }
   ],
   "source": [
    "lst"
   ]
  },
  {
   "cell_type": "code",
   "execution_count": 9,
   "metadata": {
    "collapsed": true
   },
   "outputs": [],
   "source": [
    "lst = list(['ty']*4)"
   ]
  },
  {
   "cell_type": "code",
   "execution_count": 10,
   "metadata": {
    "collapsed": false
   },
   "outputs": [
    {
     "data": {
      "text/plain": [
       "['ty', 'ty', 'ty', 'ty']"
      ]
     },
     "execution_count": 10,
     "metadata": {},
     "output_type": "execute_result"
    }
   ],
   "source": [
    "lst"
   ]
  },
  {
   "cell_type": "code",
   "execution_count": 13,
   "metadata": {
    "collapsed": false
   },
   "outputs": [
    {
     "data": {
      "text/plain": [
       "[1, 1, 1, 1]"
      ]
     },
     "execution_count": 13,
     "metadata": {},
     "output_type": "execute_result"
    }
   ],
   "source": [
    "list([1]*4)"
   ]
  },
  {
   "cell_type": "code",
   "execution_count": 15,
   "metadata": {
    "collapsed": false
   },
   "outputs": [],
   "source": [
    "st = set(lst)"
   ]
  },
  {
   "cell_type": "code",
   "execution_count": 17,
   "metadata": {
    "collapsed": false
   },
   "outputs": [
    {
     "ename": "TypeError",
     "evalue": "'set' object does not support indexing",
     "output_type": "error",
     "traceback": [
      "\u001b[0;31m---------------------------------------------------------------------------\u001b[0m",
      "\u001b[0;31mTypeError\u001b[0m                                 Traceback (most recent call last)",
      "\u001b[0;32m<ipython-input-17-d13911293b5d>\u001b[0m in \u001b[0;36m<module>\u001b[0;34m()\u001b[0m\n\u001b[0;32m----> 1\u001b[0;31m \u001b[0mst\u001b[0m\u001b[0;34m[\u001b[0m\u001b[0;36m0\u001b[0m\u001b[0;34m]\u001b[0m\u001b[0;34m\u001b[0m\u001b[0m\n\u001b[0m",
      "\u001b[0;31mTypeError\u001b[0m: 'set' object does not support indexing"
     ]
    }
   ],
   "source": [
    "st[0]"
   ]
  },
  {
   "cell_type": "code",
   "execution_count": 18,
   "metadata": {
    "collapsed": false
   },
   "outputs": [
    {
     "data": {
      "text/plain": [
       "{1}"
      ]
     },
     "execution_count": 18,
     "metadata": {},
     "output_type": "execute_result"
    }
   ],
   "source": [
    "set([1,1.0])"
   ]
  },
  {
   "cell_type": "code",
   "execution_count": 26,
   "metadata": {
    "collapsed": false
   },
   "outputs": [
    {
     "data": {
      "text/plain": [
       "140410860099256"
      ]
     },
     "execution_count": 26,
     "metadata": {},
     "output_type": "execute_result"
    }
   ],
   "source": [
    "id(1)"
   ]
  },
  {
   "cell_type": "code",
   "execution_count": 27,
   "metadata": {
    "collapsed": true
   },
   "outputs": [],
   "source": [
    "dict_test = {1:'ab', 1.0:'cd'}"
   ]
  },
  {
   "cell_type": "code",
   "execution_count": 35,
   "metadata": {
    "collapsed": true
   },
   "outputs": [],
   "source": [
    "a=1"
   ]
  },
  {
   "cell_type": "code",
   "execution_count": 36,
   "metadata": {
    "collapsed": false
   },
   "outputs": [
    {
     "data": {
      "text/plain": [
       "'cd'"
      ]
     },
     "execution_count": 36,
     "metadata": {},
     "output_type": "execute_result"
    }
   ],
   "source": [
    "dict_test[a]"
   ]
  },
  {
   "cell_type": "code",
   "execution_count": 61,
   "metadata": {
    "collapsed": true
   },
   "outputs": [],
   "source": [
    "def myfunc(a, b=10):\n",
    "    '''This function is to test the attributes in user-defined\n",
    "    functions in https://docs.python.org/2/reference/datamodel.html\n",
    "    '''\n",
    "    c = 9\n",
    "    d = 10\n",
    "    b = c+e\n",
    "    print a+b"
   ]
  },
  {
   "cell_type": "code",
   "execution_count": 38,
   "metadata": {
    "collapsed": false
   },
   "outputs": [
    {
     "data": {
      "text/plain": [
       "'This function is to test the attributes in user-defined\\n    functions in https://docs.python.org/2/reference/datamodel.html\\n    '"
      ]
     },
     "execution_count": 38,
     "metadata": {},
     "output_type": "execute_result"
    }
   ],
   "source": [
    "myfunc.__doc__"
   ]
  },
  {
   "cell_type": "code",
   "execution_count": 39,
   "metadata": {
    "collapsed": true
   },
   "outputs": [],
   "source": [
    "myfunc.__doc__ = 'Haha, change the doc into this sentence!!'"
   ]
  },
  {
   "cell_type": "code",
   "execution_count": 40,
   "metadata": {
    "collapsed": false
   },
   "outputs": [
    {
     "data": {
      "text/plain": [
       "'Haha, change the doc into this sentence!!'"
      ]
     },
     "execution_count": 40,
     "metadata": {},
     "output_type": "execute_result"
    }
   ],
   "source": [
    "myfunc.__doc__"
   ]
  },
  {
   "cell_type": "code",
   "execution_count": 41,
   "metadata": {
    "collapsed": false
   },
   "outputs": [
    {
     "data": {
      "text/plain": [
       "'Haha, change the doc into this sentence!!'"
      ]
     },
     "execution_count": 41,
     "metadata": {},
     "output_type": "execute_result"
    }
   ],
   "source": [
    "myfunc.func_doc"
   ]
  },
  {
   "cell_type": "code",
   "execution_count": 42,
   "metadata": {
    "collapsed": false
   },
   "outputs": [
    {
     "data": {
      "text/plain": [
       "'myfunc'"
      ]
     },
     "execution_count": 42,
     "metadata": {},
     "output_type": "execute_result"
    }
   ],
   "source": [
    "myfunc.__name__"
   ]
  },
  {
   "cell_type": "code",
   "execution_count": 43,
   "metadata": {
    "collapsed": false
   },
   "outputs": [
    {
     "data": {
      "text/plain": [
       "'__main__'"
      ]
     },
     "execution_count": 43,
     "metadata": {},
     "output_type": "execute_result"
    }
   ],
   "source": [
    "myfunc.__module__"
   ]
  },
  {
   "cell_type": "code",
   "execution_count": 47,
   "metadata": {
    "collapsed": false
   },
   "outputs": [
    {
     "data": {
      "text/plain": [
       "(10,)"
      ]
     },
     "execution_count": 47,
     "metadata": {},
     "output_type": "execute_result"
    }
   ],
   "source": [
    "myfunc.__defaults__"
   ]
  },
  {
   "cell_type": "code",
   "execution_count": 48,
   "metadata": {
    "collapsed": false
   },
   "outputs": [
    {
     "data": {
      "text/plain": [
       "<code object myfunc at 0x106bc5630, file \"<ipython-input-46-c2cbc313eeb8>\", line 1>"
      ]
     },
     "execution_count": 48,
     "metadata": {},
     "output_type": "execute_result"
    }
   ],
   "source": [
    "myfunc.__code__"
   ]
  },
  {
   "cell_type": "code",
   "execution_count": 49,
   "metadata": {
    "collapsed": false
   },
   "outputs": [
    {
     "data": {
      "text/plain": [
       "{'In': ['',\n",
       "  u'# The following is to test bitwise operator in Python',\n",
       "  u'# The following is to test knowledge in https://docs.python.org/2/reference/datamodel.html',\n",
       "  u\"lst = [1,2,3,'5','ty']\",\n",
       "  u'lst[1:3]',\n",
       "  u'del lst[1:3]',\n",
       "  u'lst',\n",
       "  u\"lst = list('ty'*4)\",\n",
       "  u'lst',\n",
       "  u\"lst = list(['ty']*4)\",\n",
       "  u'lst',\n",
       "  u\"list(['']*4)\",\n",
       "  u'list([]*4)',\n",
       "  u'list([1]*4)',\n",
       "  u'lst',\n",
       "  u'st = set(lst)',\n",
       "  u'st',\n",
       "  u'st[0]',\n",
       "  u'set([1,1.0])',\n",
       "  u'id(8)',\n",
       "  u\"id('8')\",\n",
       "  u\"id('8')\",\n",
       "  u\"id('hi')\",\n",
       "  u'id(1)',\n",
       "  u'id(1.0)',\n",
       "  u'id(1.00)',\n",
       "  u'id(1)',\n",
       "  u\"dict_test = {1:'ab', 1.0:'cd'}\",\n",
       "  u'dict_test',\n",
       "  u'dict_test[1]',\n",
       "  u'dict_test[1.0]',\n",
       "  u'dict_test[1.000]',\n",
       "  u'dict_test[1.001]',\n",
       "  u'dict_test[a]',\n",
       "  u'dict_test[1]',\n",
       "  u'a=1',\n",
       "  u'dict_test[a]',\n",
       "  u\"def myfunc(a, b):\\n    '''This function is to test the attributes in user-defined\\n    functions in https://docs.python.org/2/reference/datamodel.html\\n    '''\\n    print a+b\",\n",
       "  u'myfunc.__doc__',\n",
       "  u\"myfunc.__doc__ = 'Haha, change the doc into this sentence!!'\",\n",
       "  u'myfunc.__doc__',\n",
       "  u'myfunc.func_doc',\n",
       "  u'myfunc.__name__',\n",
       "  u'myfunc.__module__',\n",
       "  u'myfunc.defaults__',\n",
       "  u'myfunc.__defaults__',\n",
       "  u\"def myfunc(a, b=10):\\n    '''This function is to test the attributes in user-defined\\n    functions in https://docs.python.org/2/reference/datamodel.html\\n    '''\\n    print a+b\",\n",
       "  u'myfunc.__defaults__',\n",
       "  u'myfunc.__code__',\n",
       "  u'myfunc.__globals__'],\n",
       " 'Out': {4: [2, 3],\n",
       "  6: [1, '5', 'ty'],\n",
       "  8: ['t', 'y', 't', 'y', 't', 'y', 't', 'y'],\n",
       "  10: ['ty', 'ty', 'ty', 'ty'],\n",
       "  11: ['', '', '', ''],\n",
       "  12: [],\n",
       "  13: [1, 1, 1, 1],\n",
       "  14: ['ty', 'ty', 'ty', 'ty'],\n",
       "  16: {'ty'},\n",
       "  18: {1},\n",
       "  19: 140410860099088,\n",
       "  20: 4386005360,\n",
       "  21: 4386005360,\n",
       "  22: 4385928616,\n",
       "  23: 140410860099256,\n",
       "  24: 140410858336184,\n",
       "  25: 140410858336160,\n",
       "  26: 140410860099256,\n",
       "  28: {1: 'cd'},\n",
       "  29: 'cd',\n",
       "  30: 'cd',\n",
       "  31: 'cd',\n",
       "  34: 'cd',\n",
       "  36: 'cd',\n",
       "  38: 'This function is to test the attributes in user-defined\\n    functions in https://docs.python.org/2/reference/datamodel.html\\n    ',\n",
       "  40: 'Haha, change the doc into this sentence!!',\n",
       "  41: 'Haha, change the doc into this sentence!!',\n",
       "  42: 'myfunc',\n",
       "  43: '__main__',\n",
       "  47: (10,),\n",
       "  48: <code object myfunc at 0x106bc5630, file \"<ipython-input-46-c2cbc313eeb8>\", line 1>},\n",
       " '_': <code object myfunc at 0x106bc5630, file \"<ipython-input-46-c2cbc313eeb8>\", line 1>,\n",
       " '_10': ['ty', 'ty', 'ty', 'ty'],\n",
       " '_11': ['', '', '', ''],\n",
       " '_12': [],\n",
       " '_13': [1, 1, 1, 1],\n",
       " '_14': ['ty', 'ty', 'ty', 'ty'],\n",
       " '_16': {'ty'},\n",
       " '_18': {1},\n",
       " '_19': 140410860099088,\n",
       " '_20': 4386005360,\n",
       " '_21': 4386005360,\n",
       " '_22': 4385928616,\n",
       " '_23': 140410860099256,\n",
       " '_24': 140410858336184,\n",
       " '_25': 140410858336160,\n",
       " '_26': 140410860099256,\n",
       " '_28': {1: 'cd'},\n",
       " '_29': 'cd',\n",
       " '_30': 'cd',\n",
       " '_31': 'cd',\n",
       " '_34': 'cd',\n",
       " '_36': 'cd',\n",
       " '_38': 'This function is to test the attributes in user-defined\\n    functions in https://docs.python.org/2/reference/datamodel.html\\n    ',\n",
       " '_4': [2, 3],\n",
       " '_40': 'Haha, change the doc into this sentence!!',\n",
       " '_41': 'Haha, change the doc into this sentence!!',\n",
       " '_42': 'myfunc',\n",
       " '_43': '__main__',\n",
       " '_47': (10,),\n",
       " '_48': <code object myfunc at 0x106bc5630, file \"<ipython-input-46-c2cbc313eeb8>\", line 1>,\n",
       " '_6': [1, '5', 'ty'],\n",
       " '_8': ['t', 'y', 't', 'y', 't', 'y', 't', 'y'],\n",
       " '__': (10,),\n",
       " '___': '__main__',\n",
       " '__builtin__': <module '__builtin__' (built-in)>,\n",
       " '__builtins__': <module '__builtin__' (built-in)>,\n",
       " '__doc__': 'Automatically created module for IPython interactive environment',\n",
       " '__name__': '__main__',\n",
       " '_dh': [u'/Users/zhaoqf123/PythonPractice'],\n",
       " '_i': u'myfunc.__code__',\n",
       " '_i1': u'# The following is to test bitwise operator in Python',\n",
       " '_i10': u'lst',\n",
       " '_i11': u\"list(['']*4)\",\n",
       " '_i12': u'list([]*4)',\n",
       " '_i13': u'list([1]*4)',\n",
       " '_i14': u'lst',\n",
       " '_i15': u'st = set(lst)',\n",
       " '_i16': u'st',\n",
       " '_i17': u'st[0]',\n",
       " '_i18': u'set([1,1.0])',\n",
       " '_i19': u'id(8)',\n",
       " '_i2': u'# The following is to test knowledge in https://docs.python.org/2/reference/datamodel.html',\n",
       " '_i20': u\"id('8')\",\n",
       " '_i21': u\"id('8')\",\n",
       " '_i22': u\"id('hi')\",\n",
       " '_i23': u'id(1)',\n",
       " '_i24': u'id(1.0)',\n",
       " '_i25': u'id(1.00)',\n",
       " '_i26': u'id(1)',\n",
       " '_i27': u\"dict_test = {1:'ab', 1.0:'cd'}\",\n",
       " '_i28': u'dict_test',\n",
       " '_i29': u'dict_test[1]',\n",
       " '_i3': u\"lst = [1,2,3,'5','ty']\",\n",
       " '_i30': u'dict_test[1.0]',\n",
       " '_i31': u'dict_test[1.000]',\n",
       " '_i32': u'dict_test[1.001]',\n",
       " '_i33': u'dict_test[a]',\n",
       " '_i34': u'dict_test[1]',\n",
       " '_i35': u'a=1',\n",
       " '_i36': u'dict_test[a]',\n",
       " '_i37': u\"def myfunc(a, b):\\n    '''This function is to test the attributes in user-defined\\n    functions in https://docs.python.org/2/reference/datamodel.html\\n    '''\\n    print a+b\",\n",
       " '_i38': u'myfunc.__doc__',\n",
       " '_i39': u\"myfunc.__doc__ = 'Haha, change the doc into this sentence!!'\",\n",
       " '_i4': u'lst[1:3]',\n",
       " '_i40': u'myfunc.__doc__',\n",
       " '_i41': u'myfunc.func_doc',\n",
       " '_i42': u'myfunc.__name__',\n",
       " '_i43': u'myfunc.__module__',\n",
       " '_i44': u'myfunc.defaults__',\n",
       " '_i45': u'myfunc.__defaults__',\n",
       " '_i46': u\"def myfunc(a, b=10):\\n    '''This function is to test the attributes in user-defined\\n    functions in https://docs.python.org/2/reference/datamodel.html\\n    '''\\n    print a+b\",\n",
       " '_i47': u'myfunc.__defaults__',\n",
       " '_i48': u'myfunc.__code__',\n",
       " '_i49': u'myfunc.__globals__',\n",
       " '_i5': u'del lst[1:3]',\n",
       " '_i6': u'lst',\n",
       " '_i7': u\"lst = list('ty'*4)\",\n",
       " '_i8': u'lst',\n",
       " '_i9': u\"lst = list(['ty']*4)\",\n",
       " '_ih': ['',\n",
       "  u'# The following is to test bitwise operator in Python',\n",
       "  u'# The following is to test knowledge in https://docs.python.org/2/reference/datamodel.html',\n",
       "  u\"lst = [1,2,3,'5','ty']\",\n",
       "  u'lst[1:3]',\n",
       "  u'del lst[1:3]',\n",
       "  u'lst',\n",
       "  u\"lst = list('ty'*4)\",\n",
       "  u'lst',\n",
       "  u\"lst = list(['ty']*4)\",\n",
       "  u'lst',\n",
       "  u\"list(['']*4)\",\n",
       "  u'list([]*4)',\n",
       "  u'list([1]*4)',\n",
       "  u'lst',\n",
       "  u'st = set(lst)',\n",
       "  u'st',\n",
       "  u'st[0]',\n",
       "  u'set([1,1.0])',\n",
       "  u'id(8)',\n",
       "  u\"id('8')\",\n",
       "  u\"id('8')\",\n",
       "  u\"id('hi')\",\n",
       "  u'id(1)',\n",
       "  u'id(1.0)',\n",
       "  u'id(1.00)',\n",
       "  u'id(1)',\n",
       "  u\"dict_test = {1:'ab', 1.0:'cd'}\",\n",
       "  u'dict_test',\n",
       "  u'dict_test[1]',\n",
       "  u'dict_test[1.0]',\n",
       "  u'dict_test[1.000]',\n",
       "  u'dict_test[1.001]',\n",
       "  u'dict_test[a]',\n",
       "  u'dict_test[1]',\n",
       "  u'a=1',\n",
       "  u'dict_test[a]',\n",
       "  u\"def myfunc(a, b):\\n    '''This function is to test the attributes in user-defined\\n    functions in https://docs.python.org/2/reference/datamodel.html\\n    '''\\n    print a+b\",\n",
       "  u'myfunc.__doc__',\n",
       "  u\"myfunc.__doc__ = 'Haha, change the doc into this sentence!!'\",\n",
       "  u'myfunc.__doc__',\n",
       "  u'myfunc.func_doc',\n",
       "  u'myfunc.__name__',\n",
       "  u'myfunc.__module__',\n",
       "  u'myfunc.defaults__',\n",
       "  u'myfunc.__defaults__',\n",
       "  u\"def myfunc(a, b=10):\\n    '''This function is to test the attributes in user-defined\\n    functions in https://docs.python.org/2/reference/datamodel.html\\n    '''\\n    print a+b\",\n",
       "  u'myfunc.__defaults__',\n",
       "  u'myfunc.__code__',\n",
       "  u'myfunc.__globals__'],\n",
       " '_ii': u'myfunc.__defaults__',\n",
       " '_iii': u\"def myfunc(a, b=10):\\n    '''This function is to test the attributes in user-defined\\n    functions in https://docs.python.org/2/reference/datamodel.html\\n    '''\\n    print a+b\",\n",
       " '_oh': {4: [2, 3],\n",
       "  6: [1, '5', 'ty'],\n",
       "  8: ['t', 'y', 't', 'y', 't', 'y', 't', 'y'],\n",
       "  10: ['ty', 'ty', 'ty', 'ty'],\n",
       "  11: ['', '', '', ''],\n",
       "  12: [],\n",
       "  13: [1, 1, 1, 1],\n",
       "  14: ['ty', 'ty', 'ty', 'ty'],\n",
       "  16: {'ty'},\n",
       "  18: {1},\n",
       "  19: 140410860099088,\n",
       "  20: 4386005360,\n",
       "  21: 4386005360,\n",
       "  22: 4385928616,\n",
       "  23: 140410860099256,\n",
       "  24: 140410858336184,\n",
       "  25: 140410858336160,\n",
       "  26: 140410860099256,\n",
       "  28: {1: 'cd'},\n",
       "  29: 'cd',\n",
       "  30: 'cd',\n",
       "  31: 'cd',\n",
       "  34: 'cd',\n",
       "  36: 'cd',\n",
       "  38: 'This function is to test the attributes in user-defined\\n    functions in https://docs.python.org/2/reference/datamodel.html\\n    ',\n",
       "  40: 'Haha, change the doc into this sentence!!',\n",
       "  41: 'Haha, change the doc into this sentence!!',\n",
       "  42: 'myfunc',\n",
       "  43: '__main__',\n",
       "  47: (10,),\n",
       "  48: <code object myfunc at 0x106bc5630, file \"<ipython-input-46-c2cbc313eeb8>\", line 1>},\n",
       " '_sh': <module 'IPython.core.shadowns' from '/Library/Python/2.7/site-packages/IPython/core/shadowns.pyc'>,\n",
       " 'a': 1,\n",
       " 'dict_test': {1: 'cd'},\n",
       " 'exit': <IPython.core.autocall.ZMQExitAutocall at 0x106a57890>,\n",
       " 'get_ipython': <bound method ZMQInteractiveShell.get_ipython of <IPython.kernel.zmq.zmqshell.ZMQInteractiveShell object at 0x1063326d0>>,\n",
       " 'lst': ['ty', 'ty', 'ty', 'ty'],\n",
       " 'myfunc': <function __main__.myfunc>,\n",
       " 'quit': <IPython.core.autocall.ZMQExitAutocall at 0x106a57890>,\n",
       " 'st': {'ty'}}"
      ]
     },
     "execution_count": 49,
     "metadata": {},
     "output_type": "execute_result"
    }
   ],
   "source": [
    "myfunc.__globals__"
   ]
  },
  {
   "cell_type": "code",
   "execution_count": 74,
   "metadata": {
    "collapsed": false
   },
   "outputs": [],
   "source": [
    "myfunc.__dict__ = {'g': 100}"
   ]
  },
  {
   "cell_type": "code",
   "execution_count": 80,
   "metadata": {
    "collapsed": false
   },
   "outputs": [
    {
     "data": {
      "text/plain": [
       "False"
      ]
     },
     "execution_count": 80,
     "metadata": {},
     "output_type": "execute_result"
    }
   ],
   "source": [
    "hasattr(myfunc, 'b')"
   ]
  },
  {
   "cell_type": "code",
   "execution_count": 83,
   "metadata": {
    "collapsed": false
   },
   "outputs": [
    {
     "ename": "AttributeError",
     "evalue": "'function' object has no attribute 'c'",
     "output_type": "error",
     "traceback": [
      "\u001b[0;31m---------------------------------------------------------------------------\u001b[0m",
      "\u001b[0;31mAttributeError\u001b[0m                            Traceback (most recent call last)",
      "\u001b[0;32m<ipython-input-83-a95c4114acb0>\u001b[0m in \u001b[0;36m<module>\u001b[0;34m()\u001b[0m\n\u001b[0;32m----> 1\u001b[0;31m \u001b[0mmyfunc\u001b[0m\u001b[0;34m.\u001b[0m\u001b[0mc\u001b[0m\u001b[0;34m\u001b[0m\u001b[0m\n\u001b[0m",
      "\u001b[0;31mAttributeError\u001b[0m: 'function' object has no attribute 'c'"
     ]
    }
   ],
   "source": [
    "myfunc.c"
   ]
  },
  {
   "cell_type": "code",
   "execution_count": 63,
   "metadata": {
    "collapsed": false
   },
   "outputs": [
    {
     "name": "stdout",
     "output_type": "stream",
     "text": [
      "None\n"
     ]
    }
   ],
   "source": [
    "print myfunc.__closure__"
   ]
  },
  {
   "cell_type": "code",
   "execution_count": 71,
   "metadata": {
    "collapsed": true
   },
   "outputs": [],
   "source": [
    "def bar():\n",
    "    x = 1\n",
    "    def foo():\n",
    "        print(x)\n",
    "        print(locals())\n",
    "    foo()\n",
    "    print foo.__closure__"
   ]
  },
  {
   "cell_type": "code",
   "execution_count": 72,
   "metadata": {
    "collapsed": false
   },
   "outputs": [
    {
     "name": "stdout",
     "output_type": "stream",
     "text": [
      "1\n",
      "{'x': 1}\n",
      "(<cell at 0x106ba1e88: int object at 0x7fb3f37056b8>,)\n"
     ]
    }
   ],
   "source": [
    "bar()"
   ]
  },
  {
   "cell_type": "code",
   "execution_count": 70,
   "metadata": {
    "collapsed": false
   },
   "outputs": [
    {
     "name": "stdout",
     "output_type": "stream",
     "text": [
      "None\n"
     ]
    }
   ],
   "source": [
    "print bar.__closure__"
   ]
  },
  {
   "cell_type": "code",
   "execution_count": 73,
   "metadata": {
    "collapsed": false
   },
   "outputs": [
    {
     "name": "stdout",
     "output_type": "stream",
     "text": [
      "{}\n"
     ]
    }
   ],
   "source": [
    "print bar.__dict__"
   ]
  },
  {
   "cell_type": "code",
   "execution_count": 85,
   "metadata": {
    "collapsed": false
   },
   "outputs": [
    {
     "name": "stdout",
     "output_type": "stream",
     "text": [
      "spam\n",
      "a dynamic attribute\n"
     ]
    }
   ],
   "source": [
    "class Foo(object):\n",
    "    some_attribute = 'spam'\n",
    "    another_attribute = 'eggs'\n",
    "\n",
    "foo_instance = Foo()\n",
    "Foo.yet_another_attribute = 'a dynamic attribute'\n",
    "\n",
    "print(foo_instance.some_attribute)        # Output: spam\n",
    "print(foo_instance.yet_another_attribute) # Output: a dynamic attribute"
   ]
  },
  {
   "cell_type": "code",
   "execution_count": 86,
   "metadata": {
    "collapsed": false
   },
   "outputs": [
    {
     "name": "stdout",
     "output_type": "stream",
     "text": [
      "BURMA!\n",
      "Function attribute\n",
      "Another function attribute\n"
     ]
    }
   ],
   "source": [
    "def shout(s):\n",
    "    # Ignore (for now) the potential pitfalls of the function referring \n",
    "    # to itself by name.\n",
    "    shout.some_attribute = 'Function attribute'\n",
    "\n",
    "    print(str(s).upper() + '!')\n",
    "\n",
    "shout('burma')\n",
    "shout.another_attribute = \"Another function attribute\"\n",
    "print(shout.some_attribute)\n",
    "print(shout.another_attribute)"
   ]
  },
  {
   "cell_type": "code",
   "execution_count": 87,
   "metadata": {
    "collapsed": false
   },
   "outputs": [
    {
     "data": {
      "text/plain": [
       "45"
      ]
     },
     "execution_count": 87,
     "metadata": {},
     "output_type": "execute_result"
    }
   ],
   "source": [
    "len('Temporary Transbay Terminal (Howard at Beale)')"
   ]
  },
  {
   "cell_type": "code",
   "execution_count": null,
   "metadata": {
    "collapsed": true
   },
   "outputs": [],
   "source": []
  }
 ],
 "metadata": {
  "kernelspec": {
   "display_name": "Python 2",
   "language": "python",
   "name": "python2"
  },
  "language_info": {
   "codemirror_mode": {
    "name": "ipython",
    "version": 2
   },
   "file_extension": ".py",
   "mimetype": "text/x-python",
   "name": "python",
   "nbconvert_exporter": "python",
   "pygments_lexer": "ipython2",
   "version": "2.7.10"
  }
 },
 "nbformat": 4,
 "nbformat_minor": 0
}
