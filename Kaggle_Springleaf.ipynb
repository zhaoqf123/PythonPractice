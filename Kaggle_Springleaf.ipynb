{
 "cells": [
  {
   "cell_type": "code",
   "execution_count": 1,
   "metadata": {
    "collapsed": true
   },
   "outputs": [],
   "source": [
    "import pandas as pd\n",
    "import numpy as np\n",
    "import DataProcessing as dp\n",
    "import xgboost as xgb"
   ]
  },
  {
   "cell_type": "code",
   "execution_count": 2,
   "metadata": {
    "collapsed": true
   },
   "outputs": [],
   "source": [
    "root_path = \"/Volumes/Data/Kaggle/Springleaf\"\n",
    "train_file = root_path + \"/train.csv\"\n",
    "test_file = root_path + \"/test.csv\"\n",
    "train_file_mini = root_path + \"/train_mini.csv\"\n",
    "test_file_mini = root_path + \"/test_mini.csv\""
   ]
  },
  {
   "cell_type": "code",
   "execution_count": 3,
   "metadata": {
    "collapsed": false
   },
   "outputs": [
    {
     "name": "stderr",
     "output_type": "stream",
     "text": [
      "/Library/Python/2.7/site-packages/pandas/io/parsers.py:1170: DtypeWarning: Columns (8,9,10,11,12,43,157,196,214,225,228,229,231,235,238) have mixed types. Specify dtype option on import or set low_memory=False.\n",
      "  data = self._reader.read(nrows)\n",
      "/Library/Python/2.7/site-packages/pandas/io/parsers.py:1170: DtypeWarning: Columns (8,9,10,11,12,43,157,167,177,196,214,225,228,229,231,235,238) have mixed types. Specify dtype option on import or set low_memory=False.\n",
      "  data = self._reader.read(nrows)\n"
     ]
    }
   ],
   "source": [
    "df_train = pd.read_csv(train_file)\n",
    "df_test = pd.read_csv(test_file)"
   ]
  },
  {
   "cell_type": "code",
   "execution_count": 11,
   "metadata": {
    "collapsed": false
   },
   "outputs": [
    {
     "name": "stdout",
     "output_type": "stream",
     "text": [
      "<class 'pandas.core.frame.DataFrame'>\n",
      "Int64Index: 145231 entries, 0 to 145230\n",
      "Columns: 1934 entries, ID to target\n",
      "dtypes: float64(477), int64(1406), object(51)\n",
      "memory usage: 2.1+ GB\n"
     ]
    }
   ],
   "source": [
    "df_train.info()"
   ]
  },
  {
   "cell_type": "code",
   "execution_count": 12,
   "metadata": {
    "collapsed": false
   },
   "outputs": [
    {
     "name": "stdout",
     "output_type": "stream",
     "text": [
      "<class 'pandas.core.frame.DataFrame'>\n",
      "Int64Index: 145232 entries, 0 to 145231\n",
      "Columns: 1933 entries, ID to VAR_1934\n",
      "dtypes: float64(477), int64(1405), object(51)\n",
      "memory usage: 2.1+ GB\n"
     ]
    }
   ],
   "source": [
    "df_test.info()"
   ]
  },
  {
   "cell_type": "code",
   "execution_count": 10,
   "metadata": {
    "collapsed": true
   },
   "outputs": [],
   "source": [
    "df_train[:2000].to_csv(train_file_mini, index=False)"
   ]
  },
  {
   "cell_type": "code",
   "execution_count": 9,
   "metadata": {
    "collapsed": true
   },
   "outputs": [],
   "source": [
    "df_test[:2000].to_csv(test_file_mini, index=False)"
   ]
  },
  {
   "cell_type": "code",
   "execution_count": 5,
   "metadata": {
    "collapsed": false
   },
   "outputs": [],
   "source": [
    "df_train = pd.read_csv(train_file_mini,low_memory=False)\n",
    "df_test = pd.read_csv(test_file_mini,low_memory=False)"
   ]
  },
  {
   "cell_type": "code",
   "execution_count": 4,
   "metadata": {
    "collapsed": false
   },
   "outputs": [
    {
     "name": "stdout",
     "output_type": "stream",
     "text": [
      "<class 'pandas.core.frame.DataFrame'>\n",
      "Int64Index: 2000 entries, 0 to 1999\n",
      "Columns: 1934 entries, ID to target\n",
      "dtypes: bool(13), float64(478), int64(1406), object(37)\n",
      "memory usage: 29.4+ MB\n"
     ]
    }
   ],
   "source": [
    "df_train.info()"
   ]
  },
  {
   "cell_type": "code",
   "execution_count": 7,
   "metadata": {
    "collapsed": false
   },
   "outputs": [
    {
     "data": {
      "text/html": [
       "<div>\n",
       "<table border=\"1\" class=\"dataframe\">\n",
       "  <thead>\n",
       "    <tr style=\"text-align: right;\">\n",
       "      <th></th>\n",
       "      <th>ID</th>\n",
       "      <th>VAR_0002</th>\n",
       "      <th>VAR_0003</th>\n",
       "      <th>VAR_0004</th>\n",
       "      <th>VAR_0006</th>\n",
       "      <th>VAR_0007</th>\n",
       "      <th>VAR_0008</th>\n",
       "      <th>VAR_0009</th>\n",
       "      <th>VAR_0010</th>\n",
       "      <th>VAR_0011</th>\n",
       "      <th>...</th>\n",
       "      <th>VAR_1925</th>\n",
       "      <th>VAR_1926</th>\n",
       "      <th>VAR_1927</th>\n",
       "      <th>VAR_1928</th>\n",
       "      <th>VAR_1929</th>\n",
       "      <th>VAR_1930</th>\n",
       "      <th>VAR_1931</th>\n",
       "      <th>VAR_1932</th>\n",
       "      <th>VAR_1933</th>\n",
       "      <th>target</th>\n",
       "    </tr>\n",
       "  </thead>\n",
       "  <tbody>\n",
       "    <tr>\n",
       "      <th>count</th>\n",
       "      <td>2000.000000</td>\n",
       "      <td>2000.000000</td>\n",
       "      <td>2000.000000</td>\n",
       "      <td>2000.000000</td>\n",
       "      <td>2000.000000</td>\n",
       "      <td>2000.000000</td>\n",
       "      <td>2000</td>\n",
       "      <td>2000</td>\n",
       "      <td>2000</td>\n",
       "      <td>2000</td>\n",
       "      <td>...</td>\n",
       "      <td>2000.000000</td>\n",
       "      <td>2000.000000</td>\n",
       "      <td>2000.000000</td>\n",
       "      <td>2000.000000</td>\n",
       "      <td>2.000000e+03</td>\n",
       "      <td>2000.00000</td>\n",
       "      <td>2000.000000</td>\n",
       "      <td>2000.000000</td>\n",
       "      <td>2000.000000</td>\n",
       "      <td>2000.000000</td>\n",
       "    </tr>\n",
       "    <tr>\n",
       "      <th>mean</th>\n",
       "      <td>1942.109000</td>\n",
       "      <td>109.591500</td>\n",
       "      <td>90.687500</td>\n",
       "      <td>3721.275500</td>\n",
       "      <td>0.650000</td>\n",
       "      <td>0.511500</td>\n",
       "      <td>0</td>\n",
       "      <td>0</td>\n",
       "      <td>0</td>\n",
       "      <td>0</td>\n",
       "      <td>...</td>\n",
       "      <td>0.673000</td>\n",
       "      <td>87.177000</td>\n",
       "      <td>89.912000</td>\n",
       "      <td>915.167500</td>\n",
       "      <td>9.915000e+08</td>\n",
       "      <td>927.54550</td>\n",
       "      <td>938.560500</td>\n",
       "      <td>9962.820000</td>\n",
       "      <td>8900.451000</td>\n",
       "      <td>0.217500</td>\n",
       "    </tr>\n",
       "    <tr>\n",
       "      <th>std</th>\n",
       "      <td>1118.162488</td>\n",
       "      <td>150.557768</td>\n",
       "      <td>128.100666</td>\n",
       "      <td>8714.514664</td>\n",
       "      <td>1.575672</td>\n",
       "      <td>1.833725</td>\n",
       "      <td>0</td>\n",
       "      <td>0</td>\n",
       "      <td>0</td>\n",
       "      <td>0</td>\n",
       "      <td>...</td>\n",
       "      <td>7.324814</td>\n",
       "      <td>30.732473</td>\n",
       "      <td>26.811727</td>\n",
       "      <td>275.315117</td>\n",
       "      <td>9.182571e+07</td>\n",
       "      <td>203.70234</td>\n",
       "      <td>204.242113</td>\n",
       "      <td>590.226453</td>\n",
       "      <td>3114.830968</td>\n",
       "      <td>0.412649</td>\n",
       "    </tr>\n",
       "    <tr>\n",
       "      <th>min</th>\n",
       "      <td>2.000000</td>\n",
       "      <td>0.000000</td>\n",
       "      <td>0.000000</td>\n",
       "      <td>0.000000</td>\n",
       "      <td>0.000000</td>\n",
       "      <td>0.000000</td>\n",
       "      <td>False</td>\n",
       "      <td>False</td>\n",
       "      <td>False</td>\n",
       "      <td>False</td>\n",
       "      <td>...</td>\n",
       "      <td>0.000000</td>\n",
       "      <td>0.000000</td>\n",
       "      <td>0.000000</td>\n",
       "      <td>0.000000</td>\n",
       "      <td>0.000000e+00</td>\n",
       "      <td>1.00000</td>\n",
       "      <td>0.000000</td>\n",
       "      <td>0.000000</td>\n",
       "      <td>5.000000</td>\n",
       "      <td>0.000000</td>\n",
       "    </tr>\n",
       "    <tr>\n",
       "      <th>25%</th>\n",
       "      <td>989.500000</td>\n",
       "      <td>24.000000</td>\n",
       "      <td>14.000000</td>\n",
       "      <td>1800.000000</td>\n",
       "      <td>0.000000</td>\n",
       "      <td>0.000000</td>\n",
       "      <td>0</td>\n",
       "      <td>0</td>\n",
       "      <td>0</td>\n",
       "      <td>0</td>\n",
       "      <td>...</td>\n",
       "      <td>0.000000</td>\n",
       "      <td>98.000000</td>\n",
       "      <td>98.000000</td>\n",
       "      <td>998.000000</td>\n",
       "      <td>1.000000e+09</td>\n",
       "      <td>998.00000</td>\n",
       "      <td>998.000000</td>\n",
       "      <td>9998.000000</td>\n",
       "      <td>9998.000000</td>\n",
       "      <td>0.000000</td>\n",
       "    </tr>\n",
       "    <tr>\n",
       "      <th>50%</th>\n",
       "      <td>1949.000000</td>\n",
       "      <td>61.000000</td>\n",
       "      <td>60.000000</td>\n",
       "      <td>2530.500000</td>\n",
       "      <td>0.000000</td>\n",
       "      <td>0.000000</td>\n",
       "      <td>0</td>\n",
       "      <td>0</td>\n",
       "      <td>0</td>\n",
       "      <td>0</td>\n",
       "      <td>...</td>\n",
       "      <td>0.000000</td>\n",
       "      <td>98.000000</td>\n",
       "      <td>98.000000</td>\n",
       "      <td>998.000000</td>\n",
       "      <td>1.000000e+09</td>\n",
       "      <td>998.00000</td>\n",
       "      <td>998.000000</td>\n",
       "      <td>9998.000000</td>\n",
       "      <td>9998.000000</td>\n",
       "      <td>0.000000</td>\n",
       "    </tr>\n",
       "    <tr>\n",
       "      <th>75%</th>\n",
       "      <td>2895.250000</td>\n",
       "      <td>140.000000</td>\n",
       "      <td>123.000000</td>\n",
       "      <td>3602.000000</td>\n",
       "      <td>1.000000</td>\n",
       "      <td>1.000000</td>\n",
       "      <td>0</td>\n",
       "      <td>0</td>\n",
       "      <td>0</td>\n",
       "      <td>0</td>\n",
       "      <td>...</td>\n",
       "      <td>0.000000</td>\n",
       "      <td>98.000000</td>\n",
       "      <td>98.000000</td>\n",
       "      <td>998.000000</td>\n",
       "      <td>1.000000e+09</td>\n",
       "      <td>998.00000</td>\n",
       "      <td>998.000000</td>\n",
       "      <td>9998.000000</td>\n",
       "      <td>9998.000000</td>\n",
       "      <td>0.000000</td>\n",
       "    </tr>\n",
       "    <tr>\n",
       "      <th>max</th>\n",
       "      <td>3889.000000</td>\n",
       "      <td>999.000000</td>\n",
       "      <td>999.000000</td>\n",
       "      <td>290200.000000</td>\n",
       "      <td>17.000000</td>\n",
       "      <td>66.000000</td>\n",
       "      <td>False</td>\n",
       "      <td>False</td>\n",
       "      <td>False</td>\n",
       "      <td>False</td>\n",
       "      <td>...</td>\n",
       "      <td>99.000000</td>\n",
       "      <td>99.000000</td>\n",
       "      <td>99.000000</td>\n",
       "      <td>999.000000</td>\n",
       "      <td>1.000000e+09</td>\n",
       "      <td>999.00000</td>\n",
       "      <td>999.000000</td>\n",
       "      <td>9999.000000</td>\n",
       "      <td>9999.000000</td>\n",
       "      <td>1.000000</td>\n",
       "    </tr>\n",
       "  </tbody>\n",
       "</table>\n",
       "<p>8 rows × 1897 columns</p>\n",
       "</div>"
      ],
      "text/plain": [
       "                ID     VAR_0002     VAR_0003       VAR_0004     VAR_0006  \\\n",
       "count  2000.000000  2000.000000  2000.000000    2000.000000  2000.000000   \n",
       "mean   1942.109000   109.591500    90.687500    3721.275500     0.650000   \n",
       "std    1118.162488   150.557768   128.100666    8714.514664     1.575672   \n",
       "min       2.000000     0.000000     0.000000       0.000000     0.000000   \n",
       "25%     989.500000    24.000000    14.000000    1800.000000     0.000000   \n",
       "50%    1949.000000    61.000000    60.000000    2530.500000     0.000000   \n",
       "75%    2895.250000   140.000000   123.000000    3602.000000     1.000000   \n",
       "max    3889.000000   999.000000   999.000000  290200.000000    17.000000   \n",
       "\n",
       "          VAR_0007 VAR_0008 VAR_0009 VAR_0010 VAR_0011     ...       \\\n",
       "count  2000.000000     2000     2000     2000     2000     ...        \n",
       "mean      0.511500        0        0        0        0     ...        \n",
       "std       1.833725        0        0        0        0     ...        \n",
       "min       0.000000    False    False    False    False     ...        \n",
       "25%       0.000000        0        0        0        0     ...        \n",
       "50%       0.000000        0        0        0        0     ...        \n",
       "75%       1.000000        0        0        0        0     ...        \n",
       "max      66.000000    False    False    False    False     ...        \n",
       "\n",
       "          VAR_1925     VAR_1926     VAR_1927     VAR_1928      VAR_1929  \\\n",
       "count  2000.000000  2000.000000  2000.000000  2000.000000  2.000000e+03   \n",
       "mean      0.673000    87.177000    89.912000   915.167500  9.915000e+08   \n",
       "std       7.324814    30.732473    26.811727   275.315117  9.182571e+07   \n",
       "min       0.000000     0.000000     0.000000     0.000000  0.000000e+00   \n",
       "25%       0.000000    98.000000    98.000000   998.000000  1.000000e+09   \n",
       "50%       0.000000    98.000000    98.000000   998.000000  1.000000e+09   \n",
       "75%       0.000000    98.000000    98.000000   998.000000  1.000000e+09   \n",
       "max      99.000000    99.000000    99.000000   999.000000  1.000000e+09   \n",
       "\n",
       "         VAR_1930     VAR_1931     VAR_1932     VAR_1933       target  \n",
       "count  2000.00000  2000.000000  2000.000000  2000.000000  2000.000000  \n",
       "mean    927.54550   938.560500  9962.820000  8900.451000     0.217500  \n",
       "std     203.70234   204.242113   590.226453  3114.830968     0.412649  \n",
       "min       1.00000     0.000000     0.000000     5.000000     0.000000  \n",
       "25%     998.00000   998.000000  9998.000000  9998.000000     0.000000  \n",
       "50%     998.00000   998.000000  9998.000000  9998.000000     0.000000  \n",
       "75%     998.00000   998.000000  9998.000000  9998.000000     0.000000  \n",
       "max     999.00000   999.000000  9999.000000  9999.000000     1.000000  \n",
       "\n",
       "[8 rows x 1897 columns]"
      ]
     },
     "execution_count": 7,
     "metadata": {},
     "output_type": "execute_result"
    }
   ],
   "source": [
    "df_train.describe()"
   ]
  },
  {
   "cell_type": "code",
   "execution_count": null,
   "metadata": {
    "collapsed": true
   },
   "outputs": [],
   "source": []
  }
 ],
 "metadata": {
  "kernelspec": {
   "display_name": "Python 2",
   "language": "python",
   "name": "python2"
  },
  "language_info": {
   "codemirror_mode": {
    "name": "ipython",
    "version": 2
   },
   "file_extension": ".py",
   "mimetype": "text/x-python",
   "name": "python",
   "nbconvert_exporter": "python",
   "pygments_lexer": "ipython2",
   "version": "2.7.10"
  }
 },
 "nbformat": 4,
 "nbformat_minor": 0
}
